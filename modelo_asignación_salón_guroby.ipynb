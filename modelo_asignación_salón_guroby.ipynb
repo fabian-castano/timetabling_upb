{
 "cells": [
  {
   "attachments": {},
   "cell_type": "markdown",
   "metadata": {},
   "source": [
    "# Descripción\n",
    "\n",
    "Este notebook contiene los pasos requeridos para asignar las combinaciones, previamente asignadas, profesor-curso a un salón de acuerdo a los requerimientos institucionales."
   ]
  },
  {
   "cell_type": "code",
   "execution_count": 14,
   "metadata": {
    "ExecuteTime": {
     "end_time": "2023-04-22T08:33:52.265819Z",
     "start_time": "2023-04-22T08:33:52.258676Z"
    }
   },
   "outputs": [],
   "source": [
    "import json\n"
   ]
  },
  {
   "cell_type": "markdown",
   "metadata": {
    "collapsed": false
   },
   "source": [
    "# READ DATA\n",
    "\n",
    "## first stage model output"
   ]
  },
  {
   "cell_type": "code",
   "execution_count": 15,
   "metadata": {
    "ExecuteTime": {
     "end_time": "2023-04-22T08:34:00.740571Z",
     "start_time": "2023-04-22T08:34:00.718205Z"
    },
    "collapsed": false
   },
   "outputs": [],
   "source": [
    "# basic parameters\n",
    "DAY_LENGTH=16\n",
    "\n",
    "# Horizonte de planificación\n",
    "HORIZON=5\n",
    "\n",
    "#  Días de la semana\n",
    "DAYS=['Lunes','Martes','Miercoles','Jueves','Viernes']\n"
   ]
  },
  {
   "cell_type": "code",
   "execution_count": 16,
   "metadata": {
    "ExecuteTime": {
     "end_time": "2023-04-22T08:34:10.055412Z",
     "start_time": "2023-04-22T08:34:10.036546Z"
    }
   },
   "outputs": [],
   "source": [
    "# Este diccionario contiene un mapa de los slots de tiempo a los días y horas\n",
    "\n",
    "actual_time={}\n",
    "for d in range(HORIZON):\n",
    "    for h in range(DAY_LENGTH):\n",
    "        actual_time[d*16+h]={\"slot\":DAYS[d]+' '+str(h+6)+':00', \"day\":d, \"hour\":h,'slot_abr':DAYS[d][0]+str(h)}"
   ]
  },
  {
   "cell_type": "code",
   "execution_count": 17,
   "metadata": {
    "ExecuteTime": {
     "end_time": "2023-04-22T08:34:11.704739Z",
     "start_time": "2023-04-22T08:34:11.673575Z"
    },
    "collapsed": false
   },
   "outputs": [],
   "source": [
    "# read model_output.json\n",
    "allocations=json.load(open('data/model_output.json','r'))\n",
    "#allocations"
   ]
  },
  {
   "cell_type": "code",
   "execution_count": 18,
   "metadata": {
    "ExecuteTime": {
     "end_time": "2023-04-22T08:34:16.361108Z",
     "start_time": "2023-04-22T08:34:16.320141Z"
    },
    "collapsed": false
   },
   "outputs": [],
   "source": [
    "\n",
    "groups=allocations['courses']\n",
    "teachers=allocations['teachers']\n",
    "pairs=allocations['ensembles']\n",
    "teachers=set([int(t) for t in teachers])\n",
    "groups=set([g for g in groups])\n",
    "pairs=[(int(p[0]) ,p[1]) for p in pairs]\n"
   ]
  },
  {
   "cell_type": "code",
   "execution_count": 19,
   "metadata": {
    "ExecuteTime": {
     "end_time": "2023-04-22T08:34:25.368425Z",
     "start_time": "2023-04-22T08:34:25.350935Z"
    },
    "collapsed": false
   },
   "outputs": [],
   "source": [
    "courses_by_teacher={}\n",
    "for p in pairs:\n",
    "    if p[0] not in courses_by_teacher:\n",
    "        courses_by_teacher[p[0]]=[p[1]]\n",
    "    else:\n",
    "        courses_by_teacher[p[0]].append(p[1])\n"
   ]
  },
  {
   "cell_type": "markdown",
   "metadata": {
    "collapsed": false
   },
   "source": [
    "## Initial data load"
   ]
  },
  {
   "cell_type": "code",
   "execution_count": 20,
   "metadata": {
    "ExecuteTime": {
     "end_time": "2023-04-22T08:34:26.905087Z",
     "start_time": "2023-04-22T08:34:26.845619Z"
    },
    "collapsed": false
   },
   "outputs": [],
   "source": [
    "# read data.json\n",
    "horas_curso=json.load(open('data/horas_curso.json','r'))\n",
    "grupo_requerimiento=json.load(open('data/grupo_requerimiento.json','r'))\n",
    "capacidad_salones=json.load(open('data/capacidad_sala.json','r'))\n",
    "ubicacion_semestral=json.load(open('data/ubicacion_semestral.json','r'))"
   ]
  },
  {
   "cell_type": "markdown",
   "metadata": {
    "collapsed": false
   },
   "source": [
    "# Model construction"
   ]
  },
  {
   "cell_type": "code",
   "execution_count": 21,
   "metadata": {
    "ExecuteTime": {
     "end_time": "2023-04-22T08:37:39.974758Z",
     "start_time": "2023-04-22T08:37:39.662932Z"
    },
    "collapsed": false
   },
   "outputs": [],
   "source": [
    "I=set(teachers)\n",
    "J=set(groups)\n",
    "K=set(pairs)\n",
    "C=set(capacidad_salones.keys())\n",
    "\n",
    "\n",
    "from itertools import product\n",
    "\n",
    "# courses that are the same\n",
    "same_course={}\n",
    "# courses that are taught by the same teacher\n",
    "same_teacher={}\n",
    "\n",
    "# delta semestres\n",
    "delta_semestre={}\n",
    "for j1,j2 in product(J,J):\n",
    "    same_course[(j1,j2)]=0\n",
    "    same_teacher[(j1,j2)]=0\n",
    "    if j1[:9]==j2[:9]:\n",
    "        same_course[(j1,j2)]=1\n",
    "    delta_semestre[(j1,j2)]=abs(ubicacion_semestral[j1[:9]][\"Semestre\"]-ubicacion_semestral[j2[:9]][\"Semestre\"])\n",
    "\n",
    "for p in pairs:\n",
    "    for p2 in pairs:\n",
    "        if p[0]==p2[0]:\n",
    "            same_teacher[(p[1],p2[1])]=1\n",
    "\n",
    "# course and time slot compatibility\n",
    "time_compatibility={}\n",
    "for c,j in product(C,J):\n",
    "    for s in actual_time.keys():\n",
    "        time_compatibility[(c,j,s)]=0\n",
    "        if actual_time[s]['hour'] + horas_curso[j[:9]]['horas']<=DAY_LENGTH:\n",
    "            time_compatibility[(c,j,s)]=1\n",
    "\n",
    "valid_keys=[]\n",
    "for c,j,s in product(C,J,actual_time.keys()):\n",
    "    if time_compatibility[(c,j,s)]==1:\n",
    "        valid_keys.append((c,j,s))"
   ]
  },
  {
   "cell_type": "code",
   "execution_count": 22,
   "metadata": {
    "ExecuteTime": {
     "end_time": "2023-04-22T08:40:06.259365Z",
     "start_time": "2023-04-22T08:40:06.208265Z"
    },
    "collapsed": false
   },
   "outputs": [],
   "source": [
    "import gurobipy as gp\n",
    "\n",
    "# declare an empty model\n",
    "m=gp.Model('Asignacion de salones')\n",
    "m.setParam('OutputFlag',False)\n",
    "\n",
    "# model sense\n",
    "m.modelSense=gp.GRB.MAXIMIZE\n",
    "\n",
    "# declares variables\n",
    "\n",
    "y=m.addVars(valid_keys,vtype=gp.GRB.BINARY,name='y')\n",
    "x=m.addVars([(c,j,s) for c in C for j in J for s in actual_time.keys()],vtype=gp.GRB.BINARY,name='x')\n",
    "z=m.addVars([(j1,j2) for j1,j2 in product(J,J) if j1!=j2],vtype=gp.GRB.BINARY,name='z')\n"
   ]
  },
  {
   "attachments": {},
   "cell_type": "markdown",
   "metadata": {},
   "source": [
    "$ \\max:\\sum_{{j1,j2 \\in J, j1 \\neq j2}} z[j1,j2] \\cdot \\delta_{\\text{{semestre}}}[j1,j2]$\n"
   ]
  },
  {
   "cell_type": "code",
   "execution_count": 23,
   "metadata": {
    "ExecuteTime": {
     "end_time": "2023-04-22T08:40:54.541160Z",
     "start_time": "2023-04-22T08:40:54.508147Z"
    },
    "collapsed": false
   },
   "outputs": [],
   "source": [
    "# funcion objetivo:\n",
    "# maximizar la suma de los deltas semestrales de los cursos que se imparten\n",
    "m.setObjective(gp.quicksum(z[j1,j2]*delta_semestre[j1,j2] for j1,j2 in product(J,J) if j1!=j2))"
   ]
  },
  {
   "attachments": {},
   "cell_type": "markdown",
   "metadata": {},
   "source": [
    "$\\sum_{c,j1,s \\in \\text{{valid\\_keys}}, j1=j} y[(c,j1,s)] = 1 \\quad \\forall j \\in J$\n",
    "\n"
   ]
  },
  {
   "cell_type": "code",
   "execution_count": 25,
   "metadata": {
    "ExecuteTime": {
     "end_time": "2023-04-22T08:41:43.023528Z",
     "start_time": "2023-04-22T08:41:41.800086Z"
    },
    "collapsed": false
   },
   "outputs": [
    {
     "data": {
      "text/plain": [
       "0"
      ]
     },
     "execution_count": 25,
     "metadata": {},
     "output_type": "execute_result"
    }
   ],
   "source": [
    "# each course starts at one time slot\n",
    "m.addConstrs((gp.quicksum(y[(c,j1,s)] for c,j1,s in valid_keys if j1==j)==1 for j in J),name='each_course_starts_at_one_time_slot')\n",
    "0"
   ]
  },
  {
   "attachments": {},
   "cell_type": "markdown",
   "metadata": {},
   "source": [
    "$  \n",
    "\\sum_{s1 \\in \\text{{range}}(s,s+\\text{{horas\\_curso}}[j1[:9]]['horas']) \\atop (c,j1,s1) \\in \\text{{valid\\_keys}}} x[(c,j1,s1)] \\geq y[(c,j1,s)] \\cdot \\text{{horas\\_curso}}[j1[:9]]['horas'] \\forall c, j1, s \\in \\text{{valid\\_keys}}\n",
    "$\n"
   ]
  },
  {
   "cell_type": "code",
   "execution_count": null,
   "metadata": {
    "collapsed": false,
    "pycharm": {
     "is_executing": true
    }
   },
   "outputs": [],
   "source": [
    "# if a course start at time slot s in classroom c, it should last for the required time\n",
    "\n",
    "m.addConstrs((gp.quicksum(x[(c,j1,s1)] for s1 in range(s,s+horas_curso[j1[:9]]['horas'])  if (c,j1,s1) in valid_keys)>=y[(c,j1,s)]*horas_curso[j1[:9]]['horas'] for c,j1,s in valid_keys),name='if_a_course_start_at_time_slot_s_in_classroom_c_it_should_last_for_the_required_time')\n",
    "print(\"Hello world\")"
   ]
  },
  {
   "cell_type": "code",
   "execution_count": 26,
   "metadata": {
    "collapsed": false
   },
   "outputs": [
    {
     "data": {
      "text/plain": [
       "{'8827-0008-0': <gurobi.Constr *Awaiting Model Update*>,\n",
       " '8828-0028-0': <gurobi.Constr *Awaiting Model Update*>,\n",
       " '8830-0004-0': <gurobi.Constr *Awaiting Model Update*>,\n",
       " '6069-0175-0': <gurobi.Constr *Awaiting Model Update*>,\n",
       " '8830-0009-0': <gurobi.Constr *Awaiting Model Update*>,\n",
       " '9937-0021-0': <gurobi.Constr *Awaiting Model Update*>,\n",
       " '6612-0001-0': <gurobi.Constr *Awaiting Model Update*>,\n",
       " '6611-0004-0': <gurobi.Constr *Awaiting Model Update*>,\n",
       " '6611-0088-0': <gurobi.Constr *Awaiting Model Update*>,\n",
       " '8830-0001-0': <gurobi.Constr *Awaiting Model Update*>,\n",
       " '6069-0154-0': <gurobi.Constr *Awaiting Model Update*>,\n",
       " '5555-0010-0': <gurobi.Constr *Awaiting Model Update*>,\n",
       " '8830-0011-0': <gurobi.Constr *Awaiting Model Update*>,\n",
       " '8830-0007-0': <gurobi.Constr *Awaiting Model Update*>,\n",
       " '6069-0127-0': <gurobi.Constr *Awaiting Model Update*>,\n",
       " '8831-0028-0': <gurobi.Constr *Awaiting Model Update*>,\n",
       " '9939-0018-0': <gurobi.Constr *Awaiting Model Update*>,\n",
       " '9937-0062-0': <gurobi.Constr *Awaiting Model Update*>,\n",
       " '6069-0078-0': <gurobi.Constr *Awaiting Model Update*>,\n",
       " '9937-0011-0': <gurobi.Constr *Awaiting Model Update*>,\n",
       " '9937-0062-1': <gurobi.Constr *Awaiting Model Update*>,\n",
       " '9937-0074-0': <gurobi.Constr *Awaiting Model Update*>,\n",
       " '9937-0072-0': <gurobi.Constr *Awaiting Model Update*>,\n",
       " '8833-0021-0': <gurobi.Constr *Awaiting Model Update*>,\n",
       " '9937-0073-0': <gurobi.Constr *Awaiting Model Update*>,\n",
       " '8833-0083-0': <gurobi.Constr *Awaiting Model Update*>,\n",
       " '9937-0014-0': <gurobi.Constr *Awaiting Model Update*>,\n",
       " '6069-2060-0': <gurobi.Constr *Awaiting Model Update*>,\n",
       " '9937-0018-0': <gurobi.Constr *Awaiting Model Update*>,\n",
       " '9935-0033-0': <gurobi.Constr *Awaiting Model Update*>,\n",
       " '9937-0013-0': <gurobi.Constr *Awaiting Model Update*>,\n",
       " '8821-0010-0': <gurobi.Constr *Awaiting Model Update*>,\n",
       " '9935-0032-0': <gurobi.Constr *Awaiting Model Update*>,\n",
       " '9935-0031-0': <gurobi.Constr *Awaiting Model Update*>,\n",
       " '8827-0120-0': <gurobi.Constr *Awaiting Model Update*>,\n",
       " '2027-0059-1': <gurobi.Constr *Awaiting Model Update*>,\n",
       " '8830-0006-0': <gurobi.Constr *Awaiting Model Update*>,\n",
       " '8830-0012-0': <gurobi.Constr *Awaiting Model Update*>,\n",
       " '6069-0018-0': <gurobi.Constr *Awaiting Model Update*>,\n",
       " '5569-0011-0': <gurobi.Constr *Awaiting Model Update*>,\n",
       " '8830-0008-0': <gurobi.Constr *Awaiting Model Update*>,\n",
       " '5569-0011-2': <gurobi.Constr *Awaiting Model Update*>,\n",
       " '9937-0012-0': <gurobi.Constr *Awaiting Model Update*>,\n",
       " '9937-0076-0': <gurobi.Constr *Awaiting Model Update*>,\n",
       " '5559-0014-0': <gurobi.Constr *Awaiting Model Update*>,\n",
       " '2027-0059-0': <gurobi.Constr *Awaiting Model Update*>,\n",
       " '8830-0010-0': <gurobi.Constr *Awaiting Model Update*>,\n",
       " '6069-0011-0': <gurobi.Constr *Awaiting Model Update*>,\n",
       " '8830-0005-0': <gurobi.Constr *Awaiting Model Update*>,\n",
       " '6611-0004-1': <gurobi.Constr *Awaiting Model Update*>,\n",
       " '6069-0014-0': <gurobi.Constr *Awaiting Model Update*>,\n",
       " '5569-0011-1': <gurobi.Constr *Awaiting Model Update*>,\n",
       " '6069-0012-0': <gurobi.Constr *Awaiting Model Update*>,\n",
       " '8821-0002-0': <gurobi.Constr *Awaiting Model Update*>,\n",
       " '9935-0012-0': <gurobi.Constr *Awaiting Model Update*>,\n",
       " 'CEEM-0014-0': <gurobi.Constr *Awaiting Model Update*>,\n",
       " '5566-0009-0': <gurobi.Constr *Awaiting Model Update*>,\n",
       " '9937-0063-0': <gurobi.Constr *Awaiting Model Update*>}"
      ]
     },
     "execution_count": 26,
     "metadata": {},
     "output_type": "execute_result"
    }
   ],
   "source": [
    "# each course is assigned the time it requires\n",
    "m.addConstrs((gp.quicksum(y[(c,j1,s)] for c,j1,s in valid_keys if j1==j)==horas_curso[j[:9]]['horas'] for j in J),name='each_course_is_assigned_the_time_it_requires')\n",
    "0"
   ]
  },
  {
   "cell_type": "code",
   "execution_count": 27,
   "metadata": {
    "collapsed": false
   },
   "outputs": [],
   "source": [
    "# si dos cursos se imparten a la misma hora en cualquier salon se debe activar la variable z, que lleva cuentas de los solapamientos\n",
    "m.addConstrs((z[j1,j2]>=x[c1,j1,s]+x[c2,j2,s]-1 for j1,j2 in product(J,J) if j1!=j2 for c1 ,c2 in product(C,C) for s in actual_time.keys()),name='si_dos_cursos_se_imparten_a_la_misma_hora_en_cualquier_salon_se_debe_activar_la_variable_z_que_lleva_cuentas_de_los_solapamientos')\n",
    "0"
   ]
  },
  {
   "cell_type": "code",
   "execution_count": 48,
   "metadata": {
    "collapsed": false
   },
   "outputs": [
    {
     "ename": "KeyboardInterrupt",
     "evalue": "",
     "output_type": "error",
     "traceback": [
      "\u001b[0;31m---------------------------------------------------------------------------\u001b[0m",
      "\u001b[0;31mKeyboardInterrupt\u001b[0m                         Traceback (most recent call last)",
      "Cell \u001b[0;32mIn[48], line 7\u001b[0m\n\u001b[1;32m      5\u001b[0m \u001b[38;5;28;01mfor\u001b[39;00m c1 ,c2 \u001b[38;5;129;01min\u001b[39;00m product(C,C):\n\u001b[1;32m      6\u001b[0m     \u001b[38;5;28;01mfor\u001b[39;00m s \u001b[38;5;129;01min\u001b[39;00m actual_time\u001b[38;5;241m.\u001b[39mkeys():\n\u001b[0;32m----> 7\u001b[0m         model\u001b[38;5;241m+\u001b[39m\u001b[38;5;241m=\u001b[39mz[(j1,j2)]\u001b[38;5;241m>\u001b[39m\u001b[38;5;241m=\u001b[39mx[(c1,j1,s)]\u001b[38;5;241m+\u001b[39mx[(c2,j2,s)]\u001b[38;5;241m-\u001b[39m\u001b[38;5;241m1\u001b[39m\n",
      "File \u001b[0;32m~/Library/Caches/pypoetry/virtualenvs/timetabling_upb/lib/python3.9/site-packages/pulp/pulp.py:1701\u001b[0m, in \u001b[0;36mLpProblem.__iadd__\u001b[0;34m(self, other)\u001b[0m\n\u001b[1;32m   1699\u001b[0m     \u001b[38;5;28mself\u001b[39m\u001b[38;5;241m.\u001b[39maddConstraint(other\u001b[38;5;241m.\u001b[39mconstraint)\n\u001b[1;32m   1700\u001b[0m \u001b[38;5;28;01melif\u001b[39;00m \u001b[38;5;28misinstance\u001b[39m(other, LpConstraint):\n\u001b[0;32m-> 1701\u001b[0m     \u001b[38;5;28;43mself\u001b[39;49m\u001b[38;5;241;43m.\u001b[39;49m\u001b[43maddConstraint\u001b[49m\u001b[43m(\u001b[49m\u001b[43mother\u001b[49m\u001b[43m,\u001b[49m\u001b[43m \u001b[49m\u001b[43mname\u001b[49m\u001b[43m)\u001b[49m\n\u001b[1;32m   1702\u001b[0m \u001b[38;5;28;01melif\u001b[39;00m \u001b[38;5;28misinstance\u001b[39m(other, LpAffineExpression):\n\u001b[1;32m   1703\u001b[0m     \u001b[38;5;28;01mif\u001b[39;00m \u001b[38;5;28mself\u001b[39m\u001b[38;5;241m.\u001b[39mobjective \u001b[38;5;129;01mis\u001b[39;00m \u001b[38;5;129;01mnot\u001b[39;00m \u001b[38;5;28;01mNone\u001b[39;00m:\n",
      "File \u001b[0;32m~/Library/Caches/pypoetry/virtualenvs/timetabling_upb/lib/python3.9/site-packages/pulp/pulp.py:1664\u001b[0m, in \u001b[0;36mLpProblem.addConstraint\u001b[0;34m(self, constraint, name)\u001b[0m\n\u001b[1;32m   1662\u001b[0m     \u001b[38;5;28;01melse\u001b[39;00m:\n\u001b[1;32m   1663\u001b[0m         \u001b[38;5;28mprint\u001b[39m(\u001b[38;5;124m\"\u001b[39m\u001b[38;5;124mWarning: overlapping constraint names:\u001b[39m\u001b[38;5;124m\"\u001b[39m, name)\n\u001b[0;32m-> 1664\u001b[0m \u001b[38;5;28;43mself\u001b[39;49m\u001b[38;5;241;43m.\u001b[39;49m\u001b[43mconstraints\u001b[49m\u001b[43m[\u001b[49m\u001b[43mname\u001b[49m\u001b[43m]\u001b[49m \u001b[38;5;241m=\u001b[39m constraint\n\u001b[1;32m   1665\u001b[0m \u001b[38;5;28mself\u001b[39m\u001b[38;5;241m.\u001b[39mmodifiedConstraints\u001b[38;5;241m.\u001b[39mappend(constraint)\n\u001b[1;32m   1666\u001b[0m \u001b[38;5;28mself\u001b[39m\u001b[38;5;241m.\u001b[39maddVariables(\u001b[38;5;28mlist\u001b[39m(constraint\u001b[38;5;241m.\u001b[39mkeys()))\n",
      "\u001b[0;31mKeyboardInterrupt\u001b[0m: "
     ]
    }
   ],
   "source": [
    "# si dos cursos se imparten a la misma hora en cualquier salon se debe activar la variable z, que lleva cuentas de los solapamientos\n",
    "\n",
    "for j1,j2 in product(J,J):\n",
    "    if j1!=j2:\n",
    "        for c1 ,c2 in product(C,C):\n",
    "            for s in actual_time.keys():\n",
    "                model+=z[(j1,j2)]>=x[(c1,j1,s)]+x[(c2,j2,s)]-1\n",
    "                "
   ]
  },
  {
   "cell_type": "code",
   "execution_count": null,
   "metadata": {
    "collapsed": false
   },
   "outputs": [],
   "source": [
    "time_limit=3600\n",
    "m.setParam('TimeLimit',time_limit)\n",
    "m.solve()"
   ]
  },
  {
   "cell_type": "code",
   "execution_count": 39,
   "metadata": {
    "ExecuteTime": {
     "end_time": "2023-04-20T19:19:07.164331Z",
     "start_time": "2023-04-20T19:18:58.101105Z"
    },
    "collapsed": false
   },
   "outputs": [
    {
     "name": "stdout",
     "output_type": "stream",
     "text": [
      "Welcome to the CBC MILP Solver \n",
      "Version: 2.10.3 \n",
      "Build Date: Dec 15 2019 \n",
      "\n",
      "command line - /Users/user/Library/Caches/pypoetry/virtualenvs/timetabling_upb/lib/python3.9/site-packages/pulp/solverdir/cbc/osx/64/cbc /var/folders/xc/t5gbnt3n5sq5bkg65xw9f1g00000gn/T/2d0a6ae1821d420486a377988456e12e-pulp.mps timeMode elapsed branch printingOptions all solution /var/folders/xc/t5gbnt3n5sq5bkg65xw9f1g00000gn/T/2d0a6ae1821d420486a377988456e12e-pulp.sol (default strategy 1)\n",
      "At line 2 NAME          MODEL\n",
      "At line 3 ROWS\n",
      "At line 121 COLUMNS\n",
      "At line 727340 RHS\n",
      "At line 727457 BOUNDS\n",
      "At line 969864 ENDATA\n",
      "Problem MODEL has 116 rows, 242406 columns and 239100 elements\n",
      "Coin0008I MODEL read with 0 errors\n",
      "Option for timeMode changed from cpu to elapsed\n",
      "Continuous objective value is 0 - 0.22 seconds\n",
      "Cgl0004I processed model has 0 rows, 0 columns (0 integer (0 of which binary)) and 0 elements\n",
      "Cbc3007W No integer variables - nothing to do\n",
      "Cuts at root node changed objective from 0 to -1.79769e+308\n",
      "Probing was tried 0 times and created 0 cuts of which 0 were active after adding rounds of cuts (0.000 seconds)\n",
      "Gomory was tried 0 times and created 0 cuts of which 0 were active after adding rounds of cuts (0.000 seconds)\n",
      "Knapsack was tried 0 times and created 0 cuts of which 0 were active after adding rounds of cuts (0.000 seconds)\n",
      "Clique was tried 0 times and created 0 cuts of which 0 were active after adding rounds of cuts (0.000 seconds)\n",
      "MixedIntegerRounding2 was tried 0 times and created 0 cuts of which 0 were active after adding rounds of cuts (0.000 seconds)\n",
      "FlowCover was tried 0 times and created 0 cuts of which 0 were active after adding rounds of cuts (0.000 seconds)\n",
      "TwoMirCuts was tried 0 times and created 0 cuts of which 0 were active after adding rounds of cuts (0.000 seconds)\n",
      "ZeroHalf was tried 0 times and created 0 cuts of which 0 were active after adding rounds of cuts (0.000 seconds)\n",
      "\n",
      "Result - Optimal solution found\n",
      "\n",
      "Objective value:                0.00000000\n",
      "Enumerated nodes:               0\n",
      "Total iterations:               0\n",
      "Time (CPU seconds):             1.13\n",
      "Time (Wallclock seconds):       1.79\n",
      "\n",
      "Option for printingOptions changed from normal to all\n",
      "Total time (CPU seconds):       1.87   (Wallclock seconds):       2.80\n",
      "\n"
     ]
    },
    {
     "data": {
      "text/plain": [
       "1"
      ]
     },
     "execution_count": 39,
     "metadata": {},
     "output_type": "execute_result"
    }
   ],
   "source": []
  },
  {
   "cell_type": "code",
   "execution_count": null,
   "metadata": {
    "collapsed": false
   },
   "outputs": [],
   "source": []
  }
 ],
 "metadata": {
  "kernelspec": {
   "display_name": "apricot-env",
   "language": "python",
   "name": "python3"
  },
  "language_info": {
   "codemirror_mode": {
    "name": "ipython",
    "version": 3
   },
   "file_extension": ".py",
   "mimetype": "text/x-python",
   "name": "python",
   "nbconvert_exporter": "python",
   "pygments_lexer": "ipython3",
   "version": "3.9.16"
  },
  "orig_nbformat": 4
 },
 "nbformat": 4,
 "nbformat_minor": 2
}
