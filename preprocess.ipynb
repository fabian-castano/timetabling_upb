{
  "cells": [
    {
      "cell_type": "markdown",
      "metadata": {
        "colab_type": "text",
        "id": "view-in-github"
      },
      "source": [
        "<a href=\"https://colab.research.google.com/github/fabian-castano/timetabling_upb/blob/transition-to-gurobi/preprocess.ipynb\" target=\"_parent\"><img src=\"https://colab.research.google.com/assets/colab-badge.svg\" alt=\"Open In Colab\"/></a>"
      ]
    },
    {
      "cell_type": "code",
      "execution_count": 1,
      "metadata": {
        "ExecuteTime": {
          "end_time": "2023-04-07T00:45:37.889127Z",
          "start_time": "2023-04-07T00:45:37.851093Z"
        },
        "id": "GfD6Fj44D7Lz",
        "pycharm": {
          "is_executing": true
        }
      },
      "outputs": [],
      "source": [
        "import pandas as pd\n",
        "import numpy as np\n",
        "import json\n",
        "\n",
        "pd.set_option('display.max_columns', 500)\n",
        "pd.set_option('display.max_rows', 500)"
      ]
    },
    {
      "cell_type": "markdown",
      "metadata": {
        "id": "WI1WsxlnD7L1"
      },
      "source": [
        "# Explore file"
      ]
    },
    {
      "cell_type": "code",
      "execution_count": 2,
      "metadata": {
        "ExecuteTime": {
          "end_time": "2023-04-07T00:45:38.004808Z",
          "start_time": "2023-04-07T00:45:37.867359Z"
        },
        "id": "j8iE0rwZD7L1"
      },
      "outputs": [],
      "source": [
        "# enumerate excel sheets\n",
        "horas_curso=pd.read_excel('Facultad_ingenieria3_OK.xlsx', sheet_name='horas_curso')\n",
        "horas_curso.columns=horas_curso.columns.str.strip()\n",
        "horas_curso=horas_curso[['ASIGNATURA','codigo', 'horas', 'cantidad de cursos', '# estudiantes',\n",
        "       'Horas preparacion de clase']]\n",
        "horas_curso.columns=['ASIGNATURA', 'codigo','horas', 'cantidad_de_cursos', 'total_estudiantes','horas_no_instruccion']\n",
        "horas_curso.dropna(subset=['codigo'], inplace=True)\n",
        "horas_curso['codigo']=horas_curso['codigo'].apply(lambda x: x[:9])\n",
        "#horas_curso['ASIGNATURA']=horas_curso['ASIGNATURA'].apply(lambda x: x[10:])\n",
        "dict_horas={i['codigo']:i for i in horas_curso.to_dict('records')}\n",
        "\n",
        "#Save to json file for later use\n",
        "json.dump(dict_horas, open('data/horas_curso.json', 'w'), indent=4)\n"
      ]
    },
    {
      "cell_type": "code",
      "execution_count": 3,
      "metadata": {
        "id": "-gX8DT8rD7L2",
        "outputId": "f8f8fae3-cceb-468a-a5af-7ea10221f004"
      },
      "outputs": [
        {
          "data": {
            "text/html": [
              "<div>\n",
              "<style scoped>\n",
              "    .dataframe tbody tr th:only-of-type {\n",
              "        vertical-align: middle;\n",
              "    }\n",
              "\n",
              "    .dataframe tbody tr th {\n",
              "        vertical-align: top;\n",
              "    }\n",
              "\n",
              "    .dataframe thead th {\n",
              "        text-align: right;\n",
              "    }\n",
              "</style>\n",
              "<table border=\"1\" class=\"dataframe\">\n",
              "  <thead>\n",
              "    <tr style=\"text-align: right;\">\n",
              "      <th></th>\n",
              "      <th>ASIGNATURA</th>\n",
              "      <th>codigo</th>\n",
              "      <th>000326151</th>\n",
              "      <th>000336392</th>\n",
              "      <th>000183645</th>\n",
              "      <th>000274691</th>\n",
              "      <th>000259554</th>\n",
              "      <th>000331121</th>\n",
              "      <th>000219830</th>\n",
              "      <th>000187061</th>\n",
              "      <th>000277461</th>\n",
              "      <th>000170520</th>\n",
              "      <th>000226130</th>\n",
              "      <th>000182876</th>\n",
              "      <th>000404903</th>\n",
              "      <th>000234541</th>\n",
              "      <th>000437130</th>\n",
              "      <th>000284431</th>\n",
              "      <th>000182886</th>\n",
              "      <th>000335859</th>\n",
              "      <th>NaN</th>\n",
              "      <th>000228837</th>\n",
              "      <th>000024131</th>\n",
              "      <th>000176738</th>\n",
              "      <th>000120461</th>\n",
              "    </tr>\n",
              "  </thead>\n",
              "  <tbody>\n",
              "    <tr>\n",
              "      <th>0</th>\n",
              "      <td>Introducción_Ingeniería_Industrial</td>\n",
              "      <td>8830-0001</td>\n",
              "      <td>0</td>\n",
              "      <td>0</td>\n",
              "      <td>0</td>\n",
              "      <td>0</td>\n",
              "      <td>0</td>\n",
              "      <td>0</td>\n",
              "      <td>0</td>\n",
              "      <td>0</td>\n",
              "      <td>0</td>\n",
              "      <td>0</td>\n",
              "      <td>0</td>\n",
              "      <td>3</td>\n",
              "      <td>0</td>\n",
              "      <td>0</td>\n",
              "      <td>0</td>\n",
              "      <td>0</td>\n",
              "      <td>0</td>\n",
              "      <td>0</td>\n",
              "      <td>0</td>\n",
              "      <td>0</td>\n",
              "      <td>0</td>\n",
              "      <td>0</td>\n",
              "      <td>0</td>\n",
              "    </tr>\n",
              "    <tr>\n",
              "      <th>1</th>\n",
              "      <td>Introducción_Ingeniería_Industrial</td>\n",
              "      <td>8830-0001</td>\n",
              "      <td>0</td>\n",
              "      <td>0</td>\n",
              "      <td>0</td>\n",
              "      <td>0</td>\n",
              "      <td>2</td>\n",
              "      <td>0</td>\n",
              "      <td>0</td>\n",
              "      <td>0</td>\n",
              "      <td>0</td>\n",
              "      <td>0</td>\n",
              "      <td>0</td>\n",
              "      <td>0</td>\n",
              "      <td>0</td>\n",
              "      <td>0</td>\n",
              "      <td>0</td>\n",
              "      <td>0</td>\n",
              "      <td>0</td>\n",
              "      <td>0</td>\n",
              "      <td>0</td>\n",
              "      <td>0</td>\n",
              "      <td>0</td>\n",
              "      <td>0</td>\n",
              "      <td>0</td>\n",
              "    </tr>\n",
              "    <tr>\n",
              "      <th>2</th>\n",
              "      <td>Introducción_Ingeniería_Industrial</td>\n",
              "      <td>8830-0001</td>\n",
              "      <td>0</td>\n",
              "      <td>0</td>\n",
              "      <td>0</td>\n",
              "      <td>1</td>\n",
              "      <td>0</td>\n",
              "      <td>0</td>\n",
              "      <td>0</td>\n",
              "      <td>0</td>\n",
              "      <td>0</td>\n",
              "      <td>0</td>\n",
              "      <td>0</td>\n",
              "      <td>0</td>\n",
              "      <td>0</td>\n",
              "      <td>0</td>\n",
              "      <td>0</td>\n",
              "      <td>0</td>\n",
              "      <td>0</td>\n",
              "      <td>0</td>\n",
              "      <td>0</td>\n",
              "      <td>0</td>\n",
              "      <td>0</td>\n",
              "      <td>0</td>\n",
              "      <td>0</td>\n",
              "    </tr>\n",
              "    <tr>\n",
              "      <th>3</th>\n",
              "      <td>Fundamentos_dibujo_CAD</td>\n",
              "      <td>2027-0059</td>\n",
              "      <td>0</td>\n",
              "      <td>0</td>\n",
              "      <td>0</td>\n",
              "      <td>0</td>\n",
              "      <td>0</td>\n",
              "      <td>0</td>\n",
              "      <td>0</td>\n",
              "      <td>0</td>\n",
              "      <td>0</td>\n",
              "      <td>0</td>\n",
              "      <td>0</td>\n",
              "      <td>0</td>\n",
              "      <td>0</td>\n",
              "      <td>3</td>\n",
              "      <td>0</td>\n",
              "      <td>0</td>\n",
              "      <td>0</td>\n",
              "      <td>0</td>\n",
              "      <td>0</td>\n",
              "      <td>0</td>\n",
              "      <td>0</td>\n",
              "      <td>0</td>\n",
              "      <td>0</td>\n",
              "    </tr>\n",
              "    <tr>\n",
              "      <th>4</th>\n",
              "      <td>Fundamentos_dibujo_CAD</td>\n",
              "      <td>2027-0059</td>\n",
              "      <td>0</td>\n",
              "      <td>0</td>\n",
              "      <td>0</td>\n",
              "      <td>0</td>\n",
              "      <td>0</td>\n",
              "      <td>0</td>\n",
              "      <td>0</td>\n",
              "      <td>0</td>\n",
              "      <td>0</td>\n",
              "      <td>0</td>\n",
              "      <td>0</td>\n",
              "      <td>0</td>\n",
              "      <td>0</td>\n",
              "      <td>0</td>\n",
              "      <td>0</td>\n",
              "      <td>0</td>\n",
              "      <td>0</td>\n",
              "      <td>0</td>\n",
              "      <td>0</td>\n",
              "      <td>0</td>\n",
              "      <td>0</td>\n",
              "      <td>0</td>\n",
              "      <td>0</td>\n",
              "    </tr>\n",
              "  </tbody>\n",
              "</table>\n",
              "</div>"
            ],
            "text/plain": [
              "                           ASIGNATURA     codigo  000326151  000336392   \n",
              "0  Introducción_Ingeniería_Industrial  8830-0001          0          0  \\\n",
              "1  Introducción_Ingeniería_Industrial  8830-0001          0          0   \n",
              "2  Introducción_Ingeniería_Industrial  8830-0001          0          0   \n",
              "3              Fundamentos_dibujo_CAD  2027-0059          0          0   \n",
              "4              Fundamentos_dibujo_CAD  2027-0059          0          0   \n",
              "\n",
              "   000183645  000274691  000259554  000331121  000219830  000187061   \n",
              "0          0          0          0          0          0          0  \\\n",
              "1          0          0          2          0          0          0   \n",
              "2          0          1          0          0          0          0   \n",
              "3          0          0          0          0          0          0   \n",
              "4          0          0          0          0          0          0   \n",
              "\n",
              "   000277461  000170520  000226130  000182876  000404903  000234541   \n",
              "0          0          0          0          3          0          0  \\\n",
              "1          0          0          0          0          0          0   \n",
              "2          0          0          0          0          0          0   \n",
              "3          0          0          0          0          0          3   \n",
              "4          0          0          0          0          0          0   \n",
              "\n",
              "   000437130  000284431  000182886  000335859  NaN  000228837  000024131   \n",
              "0          0          0          0          0    0          0          0  \\\n",
              "1          0          0          0          0    0          0          0   \n",
              "2          0          0          0          0    0          0          0   \n",
              "3          0          0          0          0    0          0          0   \n",
              "4          0          0          0          0    0          0          0   \n",
              "\n",
              "   000176738  000120461  \n",
              "0          0          0  \n",
              "1          0          0  \n",
              "2          0          0  \n",
              "3          0          0  \n",
              "4          0          0  "
            ]
          },
          "metadata": {},
          "output_type": "display_data"
        }
      ],
      "source": [
        "idoneidad=pd.read_excel('Facultad_ingenieria3_OK.xlsx', sheet_name='docente_curso')\n",
        "\n",
        "\n",
        "# remove final space from column names\n",
        "idoneidad.columns = idoneidad.columns.str.strip()\n",
        "idoneidad.rename(columns={'ASIGNATURA ':'ASIGNATURA'}, inplace=True)\n",
        "\n",
        "display(idoneidad.head())\n",
        "\n",
        "idoneidad[\"ASIGNATURA\"].fillna(method=\"ffill\",inplace=True)\n",
        "idoneidad[\"codigo\"]=idoneidad[\"codigo\"].apply(lambda x: x[:9])\n",
        "idoneidad[\"ASIGNATURA\"]=idoneidad[\"ASIGNATURA\"].apply(lambda x: x[10:])\n",
        "# replaces all zeros with NaN\n",
        "idoneidad.replace(0, np.nan, inplace=True)\n",
        "\n",
        "cols=idoneidad.columns\n",
        "cols=list(cols)[1:]\n",
        "\n",
        "\n",
        "idoneidad=idoneidad.melt(id_vars=['codigo', 'ASIGNATURA'], value_vars=cols, var_name='docente', value_name='idoneidad').dropna(subset=['idoneidad'])\n",
        "idoneidad['idoneidad']=idoneidad.apply(lambda x: (x['codigo'], x['idoneidad']), axis=1)\n",
        "idoneidad.dropna(subset=['docente'], inplace=True)\n",
        "idoneidad['docente']=idoneidad.docente.astype(int)\n",
        "idoneidad=idoneidad.groupby('docente').agg(list)[['idoneidad']].reset_index()\n",
        "idoneidad['idoneidad']=idoneidad['idoneidad'].apply(lambda x: {i[0]:i[1] for i in x})\n",
        "idoneidad={i['docente']:i for i in idoneidad.to_dict('records')}\n",
        "json.dump(idoneidad, open('data/idoneidad.json', 'w'), indent=4)"
      ]
    },
    {
      "cell_type": "markdown",
      "metadata": {
        "id": "_8mHXJEkD7L3"
      },
      "source": []
    },
    {
      "cell_type": "code",
      "execution_count": 4,
      "metadata": {
        "ExecuteTime": {
          "end_time": "2023-04-07T00:46:17.016595Z",
          "start_time": "2023-04-07T00:46:16.916372Z"
        },
        "id": "zsauxylwD7L3"
      },
      "outputs": [],
      "source": [
        "labor_instruccional=pd.read_excel('Facultad_ingenieria3_OK.xlsx', sheet_name='labor_instruccional')\n",
        "labor_instruccional.columns=labor_instruccional.columns.str.strip()\n",
        "dict_labor={i['ID']:i for i in labor_instruccional.to_dict('records')}\n",
        "json.dump(dict_labor, open('data/labor_instruccional.json', 'w'), indent=4)"
      ]
    },
    {
      "cell_type": "markdown",
      "metadata": {
        "id": "qIoo5zXuD7L4"
      },
      "source": [
        "# Horas reglamentarias"
      ]
    },
    {
      "cell_type": "code",
      "execution_count": 5,
      "metadata": {
        "ExecuteTime": {
          "end_time": "2023-04-07T00:46:20.584838Z",
          "start_time": "2023-04-07T00:46:19.490587Z"
        },
        "id": "HTDe3e1nD7L4"
      },
      "outputs": [],
      "source": [
        "horas_reglamento=pd.read_excel('Facultad_ingenieria3_OK.xlsx', sheet_name='max_horas')\n",
        "horas_reglamento.columns=horas_reglamento.columns.str.strip()\n",
        "dict_horas_reglamento={i['n_cursos']:i for i in horas_reglamento.to_dict('records')}\n",
        "json.dump(dict_horas_reglamento, open('data/horas_reglamento.json', 'w'), indent=4)"
      ]
    },
    {
      "cell_type": "markdown",
      "metadata": {
        "id": "VcfZb_0aD7L4"
      },
      "source": [
        "# cursos - requerimientos - tipo_sala"
      ]
    },
    {
      "cell_type": "code",
      "execution_count": 6,
      "metadata": {
        "ExecuteTime": {
          "end_time": "2023-04-07T00:46:21.859793Z",
          "start_time": "2023-04-07T00:46:21.719947Z"
        },
        "id": "1g_6CWNoD7L4"
      },
      "outputs": [],
      "source": [
        "grupo_requerimiento=pd.read_excel('Facultad_ingenieria3_OK.xlsx', sheet_name='grupo_requerimiento')\n",
        "grupo_requerimiento.columns=grupo_requerimiento.columns.str.strip()\n",
        "grupo_requerimiento.dropna(subset=['codigo'], inplace=True)\n",
        "grupo_requerimiento.rename(columns={'cursos':'nombre'}, inplace=True)\n",
        "grupo_requerimiento={i['codigo']:i for i in grupo_requerimiento.to_dict('records')}\n",
        "json.dump(grupo_requerimiento, open('data/grupo_requerimiento.json', 'w'), indent=4)"
      ]
    },
    {
      "cell_type": "code",
      "execution_count": 7,
      "metadata": {
        "ExecuteTime": {
          "end_time": "2023-04-07T00:46:22.698286Z",
          "start_time": "2023-04-07T00:46:22.610819Z"
        },
        "id": "j2xmN2TRD7L5"
      },
      "outputs": [],
      "source": [
        "grupo_requerimiento=pd.read_excel('Facultad_ingenieria3_OK.xlsx', sheet_name='grupo_requerimiento')\n",
        "grupo_requerimiento.columns=grupo_requerimiento.columns.str.strip()\n",
        "\n",
        "grupo_requerimiento.dropna(subset=['codigo'], inplace=True)\n",
        "dict_curso_codigo=grupo_requerimiento.set_index('cursos').to_dict()['codigo']\n"
      ]
    },
    {
      "cell_type": "code",
      "execution_count": 8,
      "metadata": {
        "ExecuteTime": {
          "end_time": "2023-04-07T00:46:23.926814Z",
          "start_time": "2023-04-07T00:46:23.797051Z"
        },
        "id": "A6LtZD04D7L5"
      },
      "outputs": [],
      "source": [
        "ubicacion_semestral=pd.read_excel('Facultad_ingenieria3_OK.xlsx', sheet_name='ubicacion_semestral')\n",
        "ubicacion_semestral.columns=ubicacion_semestral.columns.str.strip()\n",
        "ubicacion_semestral={i['codigo']:i for i in ubicacion_semestral.to_dict('records')}\n",
        "json.dump(ubicacion_semestral, open('data/ubicacion_semestral.json', 'w'), indent=4)"
      ]
    },
    {
      "cell_type": "markdown",
      "metadata": {
        "collapsed": false,
        "id": "d9sC9aCFD7L5"
      },
      "source": [
        "# cursos - requerimientos - tipo_sala"
      ]
    },
    {
      "cell_type": "code",
      "execution_count": 9,
      "metadata": {
        "ExecuteTime": {
          "end_time": "2023-04-07T01:09:58.093334Z",
          "start_time": "2023-04-07T01:09:57.228065Z"
        },
        "id": "f-m2MvW-D7L6",
        "outputId": "008ec36d-52e9-4b8c-dc30-4f75d20302c4"
      },
      "outputs": [],
      "source": [
        "capacidad_sala=pd.read_excel('Facultad_ingenieria3_OK.xlsx', sheet_name='Capac_salon ')\n",
        "capacidad_sala.columns=capacidad_sala.columns.str.strip()\n",
        "capacidad_sala={i['aula']:i for i in capacidad_sala.to_dict('records')}\n",
        "json.dump(capacidad_sala, open('data/capacidad_sala.json', 'w'), indent=4)"
      ]
    },
    {
      "cell_type": "markdown",
      "metadata": {
        "collapsed": false,
        "id": "nCDscPUTD7L6"
      },
      "source": []
    },
    {
      "cell_type": "code",
      "execution_count": 10,
      "metadata": {
        "id": "ujbhJ52uD7L6",
        "outputId": "441957a1-7021-4a9e-a8b9-44a7fe7c67e2"
      },
      "outputs": [],
      "source": [
        "df_disp=pd.read_csv('/Users/user/Documents/timetabling_upb/disponibilidad_docente.csv', encoding='ISO-8859-1')\n",
        "df_disp['ID']=df_disp['ID'].apply(lambda x: str(x).zfill(6))\n",
        "df_disp\n",
        "\n",
        "cols=df_disp.columns\n",
        "cols=list(cols)[2:]\n",
        "\n",
        "df_disp['available']=df_disp.apply(lambda x: [i for i in cols if x[i]==1], axis=1)\n",
        "df_disp.drop(columns=cols, inplace=True)\n",
        "df_disp\n",
        "days=['L','M','W','J','V','S']\n",
        "day_len=17\n",
        "map_slots={str(days[i])+str(j):i*day_len+j for i in range(len(days)) for j in range(day_len)}\n",
        "df_disp['available']=df_disp['available'].apply(lambda x: [map_slots[i] for i in x])\n",
        "\n",
        "json.dump(df_disp.set_index('ID').to_dict()['available'], open('data/disponibilidad.json', 'w'), indent=4)"
      ]
    }
  ],
  "metadata": {
    "colab": {
      "include_colab_link": true,
      "provenance": []
    },
    "kernelspec": {
      "display_name": "apricot-env",
      "language": "python",
      "name": "python3"
    },
    "language_info": {
      "codemirror_mode": {
        "name": "ipython",
        "version": 3
      },
      "file_extension": ".py",
      "mimetype": "text/x-python",
      "name": "python",
      "nbconvert_exporter": "python",
      "pygments_lexer": "ipython3",
      "version": "3.9.13"
    },
    "orig_nbformat": 4
  },
  "nbformat": 4,
  "nbformat_minor": 0
}
