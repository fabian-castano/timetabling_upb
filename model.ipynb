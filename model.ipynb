{
  "cells": [
    {
      "cell_type": "markdown",
      "metadata": {
        "id": "view-in-github",
        "colab_type": "text"
      },
      "source": [
        "<a href=\"https://colab.research.google.com/github/fancagi/timetabling_upb/blob/main/model.ipynb\" target=\"_parent\"><img src=\"https://colab.research.google.com/assets/colab-badge.svg\" alt=\"Open In Colab\"/></a>"
      ]
    },
    {
      "cell_type": "code",
      "execution_count": null,
      "metadata": {
        "id": "IAeWKsM1XZ1U"
      },
      "outputs": [],
      "source": [
        "import pandas as pd\n",
        "import pulp as plp\n",
        "import json"
      ]
    },
    {
      "cell_type": "markdown",
      "metadata": {
        "id": "c8Kois9GXZ1V"
      },
      "source": [
        "# read data"
      ]
    },
    {
      "cell_type": "code",
      "execution_count": null,
      "metadata": {
        "id": "MgBxbLwTXZ1W"
      },
      "outputs": [],
      "source": [
        "horas_curso=json.loads(open('data/horas_curso.json').read())\n",
        "idoneidad=json.loads(open('data/idoneidad.json').read())\n",
        "horas_reglamento=json.loads(open('data/horas_reglamento.json').read())\n",
        "labor_instruccional=json.loads(open('data/labor_instruccional.json').read())\n",
        "grupo_requerimiento=json.loads(open('data/grupo_requerimiento.json').read())\n",
        "ubicacion_semestral=json.loads(open('data/ubicacion_semestral.json').read())\n"
      ]
    },
    {
      "cell_type": "code",
      "execution_count": null,
      "metadata": {
        "id": "1Uj4i3doXZ1W"
      },
      "outputs": [],
      "source": [
        "L={str(i):[str(grupo_requerimiento[i]['codigo'])+'-'+str(j) for j in range(grupo_requerimiento[i]['n_grupos'])] for i in grupo_requerimiento.keys()}   \n",
        "curso_base={str(i)+\"-\"+str(j):str(i)  for i in grupo_requerimiento.keys() for j in range(grupo_requerimiento[i]['n_grupos']) }\n",
        "\n"
      ]
    },
    {
      "cell_type": "code",
      "execution_count": null,
      "metadata": {
        "id": "PJhkAPtNXZ1W"
      },
      "outputs": [],
      "source": [
        "grupos=[]\n",
        "for l in L.values():\n",
        "    for ele in l:\n",
        "        grupos.append(ele)"
      ]
    },
    {
      "cell_type": "markdown",
      "metadata": {
        "id": "x_iO2TL0XZ1X"
      },
      "source": [
        "# Modelo"
      ]
    },
    {
      "cell_type": "code",
      "execution_count": null,
      "metadata": {
        "id": "74hRMfjDXZ1X"
      },
      "outputs": [],
      "source": [
        "# Conjuntos\n",
        "\n",
        "I=set(idoneidad.keys()) # Profesores\n",
        "J=set(grupos) # Grupos\n",
        "K=set(grupo_requerimiento.keys()) # Cursos\n",
        "# Conjunto auxiliar que sirve para enumerar la cantidad de cursos que un docente tiene asignados\n",
        "C=set(range(1,7)) # Posibles valores para el número de clases en un semestre asignadas a un docente"
      ]
    },
    {
      "cell_type": "code",
      "execution_count": null,
      "metadata": {
        "id": "1IiV9DkBXZ1X"
      },
      "outputs": [],
      "source": [
        "\n",
        "# combinaciones posibles de profesores ygrupo\n",
        "tuplas=[(i,j) for i in I for j in J if i in idoneidad.keys() and curso_base[j] in idoneidad[i]['idoneidad'] ]\n",
        "# subindices usados para denotar la carga asignada a un profesor\n",
        "doc_carga=[(i,c) for i in I for c in C]\n",
        "# tuplas profesor y curso\n",
        "prof_curso=[(i,j) for i in I for j in idoneidad[i]['idoneidad'].keys()]"
      ]
    },
    {
      "cell_type": "markdown",
      "metadata": {
        "id": "AFGTHZ39XZ1Y"
      },
      "source": [
        "# Modelo"
      ]
    },
    {
      "cell_type": "markdown",
      "metadata": {
        "id": "sCq0zdgoXZ1Y"
      },
      "source": [
        "## Declaración de variables"
      ]
    },
    {
      "cell_type": "code",
      "execution_count": null,
      "metadata": {
        "id": "ZnTSI-EbXZ1Y",
        "outputId": "ee07ff13-a726-4324-a292-269b237a5b36"
      },
      "outputs": [
        {
          "name": "stderr",
          "output_type": "stream",
          "text": [
            "/Users/user/opt/anaconda3/envs/apricot-env/lib/python3.9/site-packages/pulp/pulp.py:1352: UserWarning: Spaces are not permitted in the name. Converted to '_'\n",
            "  warnings.warn(\"Spaces are not permitted in the name. Converted to '_'\")\n"
          ]
        }
      ],
      "source": [
        "import pulp as plp\n",
        "\n",
        "# Create the 'prob' variable to contain the problem data\n",
        "prob = plp.LpProblem(\"Modelo William\", plp.LpMaximize)\n",
        "\n",
        "# Create problem variables from dictionary\n",
        "# Docente i es asignado a grupo j (binaria)\n",
        "x=plp.LpVariable.dicts(\"x\",tuplas,0,1,plp.LpBinary)\n",
        "\n",
        "# Docente i es asignado a c cursos diferentes\n",
        "N=plp.LpVariable.dicts(\"N\",doc_carga,0,1,plp.LpBinary)\n",
        "\n",
        "# Un profesor es asignado a un curso\n",
        "z=plp.LpVariable.dicts(\"z\",prof_curso,0,1,plp.LpBinary)\n",
        "\n"
      ]
    },
    {
      "cell_type": "markdown",
      "metadata": {
        "id": "9QRG33YEXZ1Z"
      },
      "source": [
        "## Funcion objetivo 1 \n",
        " maximizar la suma de la idoneidad de los profesores asignados a los diferentes grupos\n",
        "\n"
      ]
    },
    {
      "cell_type": "code",
      "execution_count": null,
      "metadata": {
        "id": "6_0_sDodXZ1Z"
      },
      "outputs": [],
      "source": [
        "# e=(i,j) representa la tupla\n",
        "prob+=plp.lpSum([x[(i,j)]*idoneidad[i]['idoneidad'][curso_base[j]] for (i,j) in tuplas])\n"
      ]
    },
    {
      "cell_type": "markdown",
      "metadata": {
        "id": "5-4ojnPbXZ1Z"
      },
      "source": [
        "### Restricciones"
      ]
    },
    {
      "cell_type": "code",
      "execution_count": null,
      "metadata": {
        "id": "WGvixm_tXZ1Z"
      },
      "outputs": [],
      "source": [
        "# restriccion 1\n",
        "cursos_excluir=['8833-0022','8833-0083','8833-0101','5568-0011','5562-0013']\n",
        "# Cada curso tiene un docente asignado\n",
        "for j in J:\n",
        "    \n",
        "    #\n",
        "    \n",
        "    if curso_base[j] not in cursos_excluir:\n",
        "        prob+=plp.lpSum([x[i,j] for i in I if (i,j) in tuplas])==1,\"asignacion curso %s\"%j\n",
        "\n",
        "        prob.solve(solver=plp.PULP_CBC_CMD(msg=0))\n",
        "        if prob.status==-1:\n",
        "            print(\"El problema es infactible\")\n",
        "            print(plp.lpSum([x[i,j] for i in I if (i,j) in tuplas])==1,\"asignacion curso %s\"%j)\n",
        "            break\n"
      ]
    },
    {
      "cell_type": "code",
      "execution_count": null,
      "metadata": {
        "id": "uuqYEan2XZ1a"
      },
      "outputs": [],
      "source": [
        "# Contar cuantos cursos diferentes da un profesor\n",
        "for i in I:\n",
        "    prob+=plp.lpSum([z[(i,k)] for k in K if (i,k) in prof_curso])==plp.lpSum([l*N[i,l] for l in C])\n",
        "# el profesor tiene una cantidad de cursos asignada\n",
        "for i in I:\n",
        "    prob+=plp.lpSum([N[i,l] for l in C])==1\n",
        "\n",
        "# el profesor no puede dar mas cursos de los que tiene asignados\n",
        "for i in I:\n",
        "    for k in K:\n",
        "        if (i,k) in prof_curso:\n",
        "            plp.lpSum([x[(i,j)] for j in L[k] if (i,j) in tuplas])<=z[(i,k)]*len(L[k])"
      ]
    },
    {
      "cell_type": "code",
      "execution_count": null,
      "metadata": {
        "id": "sWTmjtG0XZ1a",
        "outputId": "38b6f2e4-166b-45e9-b264-cf100980cf83"
      },
      "outputs": [
        {
          "data": {
            "text/plain": [
              "1"
            ]
          },
          "execution_count": 53,
          "metadata": {},
          "output_type": "execute_result"
        }
      ],
      "source": [
        "prob.solve()"
      ]
    },
    {
      "cell_type": "code",
      "execution_count": null,
      "metadata": {
        "id": "NXx5b-H6XZ1a"
      },
      "outputs": [],
      "source": [
        "dict_curso_prof"
      ]
    },
    {
      "cell_type": "code",
      "execution_count": null,
      "metadata": {
        "id": "ssvGy8xfXZ1a",
        "outputId": "a3d4f4c4-d500-4fdc-8779-0a7712fff028"
      },
      "outputs": [
        {
          "name": "stdout",
          "output_type": "stream",
          "text": [
            "234541 2027-0059-0 2027-0059 Marcelo_antonioni_Aguilar_Montero Fundamentos_dibujo_CAD\n",
            "234541 2027-0059-1 2027-0059 Marcelo_antonioni_Aguilar_Montero Fundamentos_dibujo_CAD\n",
            "274691 8821-0002-0 8821-0002 Beatriz_Elena_Hernandez_Arias OCI-III_Htas_Toma_Desiciones\n",
            "274691 8830-0012-0 8830-0012 Beatriz_Elena_Hernandez_Arias Sistemas_Gestión\n",
            "274691 5566-0009-0 5566-0009 Beatriz_Elena_Hernandez_Arias Contexto_Profesional\n",
            "274691 8830-0005-0 8830-0005 Beatriz_Elena_Hernandez_Arias Organización_Trabajo\n",
            "331121 8833-0021-0 8833-0021 Edwin_Fernando_Restrepo_Salazar Metodología_Investigación\n",
            "331121 9937-0013-0 9937-0013 Edwin_Fernando_Restrepo_Salazar Diseño_Experimental\n",
            "331121 6069-0154-0 6069-0154 Edwin_Fernando_Restrepo_Salazar OCI_II_Propspectiva_Estrategica\n",
            "277461 8830-0011-0 8830-0011 Mariela_Galindo_Barbosa Logística_Industrial\n",
            "277461 6611-0088-0 6611-0088 Mariela_Galindo_Barbosa Ingeniería_Económica\n",
            "277461 9937-0072-0 9937-0072 Mariela_Galindo_Barbosa Algebra_Lineal\n",
            "277461 6069-0078-0 6069-0078 Mariela_Galindo_Barbosa OCP-I_Gestión_Procesos \n",
            "170520 6069-0018-0 6069-0018 Pedro_Nel_Barbosa_Garcia Gestión_Financiera\n",
            "170520 6069-0014-0 6069-0014 Pedro_Nel_Barbosa_Garcia Mercadeo\n",
            "259554 6612-0001-0 6612-0001 Claudia_Orly_Escudero_Jimenez Costos_Presupuestos\n",
            "259554 5555-0010-0 5555-0010 Claudia_Orly_Escudero_Jimenez Ética_Profesional\n",
            "259554 6069-2060-0 6069-2060 Claudia_Orly_Escudero_Jimenez OCI-I_Gerencia_contemporanea\n",
            "259554 8830-0010-0 8830-0010 Claudia_Orly_Escudero_Jimenez Ergonomía_Seguridad_Salud_Trabajo\n",
            "259554 8833-0083-0 8833-0083 Claudia_Orly_Escudero_Jimenez Plan_Empresa\n",
            "259554 6069-0175-0 6069-0175 Claudia_Orly_Escudero_Jimenez OCP-II_Audit.Admon_Diagnos_Organizacional\n",
            "259554 CEEM-0014-0 CEEM-0014 Claudia_Orly_Escudero_Jimenez Electiva-I_RSE\n",
            "187061 8830-0009-0 8830-0009 Jairo_Arboleda_Zuñiga Optimización\n",
            "187061 9937-0018-0 9937-0018 Jairo_Arboleda_Zuñiga Simulación\n",
            "437130 9937-0014-0 9937-0014 Jonny_Pantoja_Diaz Investigación_Operativa\n",
            "176738 8833-0083-0 8833-0083\n",
            "336392 9937-0063-0 9937-0063 Andres_Felipe_Hernandez_Giraldo Geometría_Analítica\n",
            "336392 8827-0120-0 8827-0120 Andres_Felipe_Hernandez_Giraldo Electiva-II_Excel_Ingeniero\n",
            "336392 8827-0008-0 8827-0008 Andres_Felipe_Hernandez_Giraldo Fundamentos_Computación\n",
            "336392 6069-0012-0 6069-0012 Andres_Felipe_Hernandez_Giraldo Gestión_Tecnología_Innovación\n",
            "219830 8821-0010-0 8821-0010 Edwin_Javier_Ortega_Zuñiga Gerencia_Proyectos\n",
            "219830 5569-0011-2 5569-0011 Edwin_Javier_Ortega_Zuñiga ElectivaCFH-I_Catedra_sostenibilidad\n",
            "219830 5569-0011-0 5569-0011 Edwin_Javier_Ortega_Zuñiga ElectivaCFH-I_Catedra_sostenibilidad\n",
            "219830 5569-0011-1 5569-0011 Edwin_Javier_Ortega_Zuñiga ElectivaCFH-I_Catedra_sostenibilidad\n",
            "219830 9935-0033-0 9935-0033 Edwin_Javier_Ortega_Zuñiga Electricidad_Magnetismo\n",
            "219830 6069-0127-0 6069-0127 Edwin_Javier_Ortega_Zuñiga Formulación_Evaluación_Proyectos\n",
            "226130 8828-0028-0 8828-0028 Ruben_Dario_Parra_Zuleta Electrotecnia_Industrial          \n",
            "226130 9935-0032-0 9935-0032 Ruben_Dario_Parra_Zuleta Métodos_Experimentales_Física\n",
            "226130 9937-0062-0 9937-0062 Ruben_Dario_Parra_Zuleta Calculo_Diferencial\n",
            "226130 9937-0073-0 9937-0073 Ruben_Dario_Parra_Zuleta Calculo_Integral\n",
            "226130 6069-0011-0 6069-0011 Ruben_Dario_Parra_Zuleta Administración_Gestión_Talento_Humano\n",
            "226130 9935-0012-0 9935-0012 Ruben_Dario_Parra_Zuleta Termodinámica\n",
            "226130 9935-0031-0 9935-0031 Ruben_Dario_Parra_Zuleta Física_Mecánica\n",
            "226130 9937-0062-1 9937-0062 Ruben_Dario_Parra_Zuleta Calculo_Diferencial\n",
            "182876 8830-0008-0 8830-0008 William_Andres_Alzate_Cobo Control_Estadísitico_Calidad\n",
            "182876 5559-0014-0 5559-0014 William_Andres_Alzate_Cobo Legislación\n",
            "182876 8830-0001-0 8830-0001 William_Andres_Alzate_Cobo Introducción_Ingeniería_Industrial\n",
            "284431 6611-0004-0 6611-0004\n",
            "284431 6611-0004-1 6611-0004\n",
            "326151 8830-0004-0 8830-0004 Alvaro_Jose_Torres_Penagos Procesos_Industriales\n",
            "326151 8830-0006-0 8830-0006 Alvaro_Jose_Torres_Penagos Planeación_Control_Producción\n",
            "326151 8830-0007-0 8830-0007 Alvaro_Jose_Torres_Penagos Diseño_Mantenimiento_Plantas  \n",
            "183645 9937-0011-0 9937-0011 Andres_Felipe_Parra_Perea Probabilidad_Inferencia_Estadistica\n",
            "183645 9937-0076-0 9937-0076 Andres_Felipe_Parra_Perea Ecuaciones_Diferenciales\n",
            "183645 9937-0012-0 9937-0012 Andres_Felipe_Parra_Perea Modelos_Regresón_Series_Tiempo\n",
            "183645 9937-0074-0 9937-0074 Andres_Felipe_Parra_Perea Cálculo_Vectorial\n",
            "404903 9939-0018-0 9939-0018 Yaqueline_Quiñones_Rodriguez Fundamentos_Quimica\n",
            "404903 8831-0028-0 8831-0028 Yaqueline_Quiñones_Rodriguez Materiales_Ingeniería\n",
            "404903 9937-0021-0 9937-0021 Yaqueline_Quiñones_Rodriguez OCBD_Matematica_Operativa\n"
          ]
        }
      ],
      "source": [
        "for (i,j) in tuplas:\n",
        "    if x[(i,j)].value()>0.5:\n",
        "        try:\n",
        "            print(i,j,curso_base[j],labor_instruccional[i]['docente'],horas_curso[curso_base[j]][\"ASIGNATURA\"])\n",
        "        except:\n",
        "            print(i,j,curso_base[j])"
      ]
    }
  ],
  "metadata": {
    "kernelspec": {
      "display_name": "apricot-env",
      "language": "python",
      "name": "python3"
    },
    "language_info": {
      "codemirror_mode": {
        "name": "ipython",
        "version": 3
      },
      "file_extension": ".py",
      "mimetype": "text/x-python",
      "name": "python",
      "nbconvert_exporter": "python",
      "pygments_lexer": "ipython3",
      "version": "3.9.12"
    },
    "orig_nbformat": 4,
    "colab": {
      "provenance": [],
      "include_colab_link": true
    }
  },
  "nbformat": 4,
  "nbformat_minor": 0
}