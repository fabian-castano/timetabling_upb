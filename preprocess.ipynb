{
 "cells": [
  {
   "cell_type": "code",
   "execution_count": 1,
   "metadata": {
    "ExecuteTime": {
     "end_time": "2023-04-07T00:45:37.889127Z",
     "start_time": "2023-04-07T00:45:37.851093Z"
    },
    "pycharm": {
     "is_executing": true
    }
   },
   "outputs": [],
   "source": [
    "import pandas as pd\n",
    "import numpy as np\n",
    "import json\n",
    "\n",
    "pd.set_option('display.max_columns', 500)\n",
    "pd.set_option('display.max_rows', 500)"
   ]
  },
  {
   "attachments": {},
   "cell_type": "markdown",
   "metadata": {},
   "source": [
    "# Explore file"
   ]
  },
  {
   "cell_type": "code",
   "execution_count": 2,
   "metadata": {
    "ExecuteTime": {
     "end_time": "2023-04-07T00:45:38.004808Z",
     "start_time": "2023-04-07T00:45:37.867359Z"
    }
   },
   "outputs": [],
   "source": [
    "# enumerate excel sheets\n",
    "horas_curso=pd.read_excel('Facultad_ingenieria3_OK.xlsx', sheet_name='horas_curso')\n",
    "horas_curso.columns=horas_curso.columns.str.strip()\n",
    "horas_curso=horas_curso[['ASIGNATURA','codigo', 'horas', 'cantidad de cursos', '# estudiantes',\n",
    "       'Horas preparacion de clase']]\n",
    "horas_curso.columns=['ASIGNATURA', 'codigo','horas', 'cantidad_de_cursos', 'total_estudiantes','horas_no_instruccion']\n",
    "horas_curso.dropna(subset=['codigo'], inplace=True)\n",
    "horas_curso['codigo']=horas_curso['codigo'].apply(lambda x: x[:9])\n",
    "#horas_curso['ASIGNATURA']=horas_curso['ASIGNATURA'].apply(lambda x: x[10:])\n",
    "dict_horas={i['codigo']:i for i in horas_curso.to_dict('records')}\n",
    "\n",
    "#Save to json file for later use\n",
    "json.dump(dict_horas, open('data/horas_curso.json', 'w'), indent=4)\n"
   ]
  },
  {
   "cell_type": "code",
   "execution_count": 7,
   "metadata": {},
   "outputs": [
    {
     "data": {
      "text/html": [
       "<div>\n",
       "<style scoped>\n",
       "    .dataframe tbody tr th:only-of-type {\n",
       "        vertical-align: middle;\n",
       "    }\n",
       "\n",
       "    .dataframe tbody tr th {\n",
       "        vertical-align: top;\n",
       "    }\n",
       "\n",
       "    .dataframe thead th {\n",
       "        text-align: right;\n",
       "    }\n",
       "</style>\n",
       "<table border=\"1\" class=\"dataframe\">\n",
       "  <thead>\n",
       "    <tr style=\"text-align: right;\">\n",
       "      <th></th>\n",
       "      <th>ASIGNATURA</th>\n",
       "      <th>codigo</th>\n",
       "      <th>000326151</th>\n",
       "      <th>000336392</th>\n",
       "      <th>000183645</th>\n",
       "      <th>000274691</th>\n",
       "      <th>000259554</th>\n",
       "      <th>000331121</th>\n",
       "      <th>000219830</th>\n",
       "      <th>000187061</th>\n",
       "      <th>000277461</th>\n",
       "      <th>000170520</th>\n",
       "      <th>000226130</th>\n",
       "      <th>000182876</th>\n",
       "      <th>000404903</th>\n",
       "      <th>000234541</th>\n",
       "      <th>000437130</th>\n",
       "      <th>000284431</th>\n",
       "      <th>000182886</th>\n",
       "      <th>000335859</th>\n",
       "      <th>00060867</th>\n",
       "      <th>000228837</th>\n",
       "      <th>000024131</th>\n",
       "      <th>000176738</th>\n",
       "      <th>000120461</th>\n",
       "    </tr>\n",
       "  </thead>\n",
       "  <tbody>\n",
       "    <tr>\n",
       "      <th>0</th>\n",
       "      <td>Introducción_Ingeniería_Industrial</td>\n",
       "      <td>8830-0001</td>\n",
       "      <td>0.0</td>\n",
       "      <td>0.0</td>\n",
       "      <td>0.0</td>\n",
       "      <td>0.0</td>\n",
       "      <td>0.0</td>\n",
       "      <td>0.0</td>\n",
       "      <td>0.0</td>\n",
       "      <td>0.0</td>\n",
       "      <td>0.0</td>\n",
       "      <td>0.0</td>\n",
       "      <td>0.0</td>\n",
       "      <td>3.0</td>\n",
       "      <td>0.0</td>\n",
       "      <td>0.0</td>\n",
       "      <td>0.0</td>\n",
       "      <td>0.0</td>\n",
       "      <td>0.0</td>\n",
       "      <td>0.0</td>\n",
       "      <td>0.0</td>\n",
       "      <td>0.0</td>\n",
       "      <td>0.0</td>\n",
       "      <td>0.0</td>\n",
       "      <td>0.0</td>\n",
       "    </tr>\n",
       "    <tr>\n",
       "      <th>1</th>\n",
       "      <td>Introducción_Ingeniería_Industrial</td>\n",
       "      <td>8830-0001</td>\n",
       "      <td>0.0</td>\n",
       "      <td>0.0</td>\n",
       "      <td>0.0</td>\n",
       "      <td>0.0</td>\n",
       "      <td>2.0</td>\n",
       "      <td>0.0</td>\n",
       "      <td>0.0</td>\n",
       "      <td>0.0</td>\n",
       "      <td>0.0</td>\n",
       "      <td>0.0</td>\n",
       "      <td>0.0</td>\n",
       "      <td>0.0</td>\n",
       "      <td>0.0</td>\n",
       "      <td>0.0</td>\n",
       "      <td>0.0</td>\n",
       "      <td>0.0</td>\n",
       "      <td>0.0</td>\n",
       "      <td>0.0</td>\n",
       "      <td>0.0</td>\n",
       "      <td>0.0</td>\n",
       "      <td>0.0</td>\n",
       "      <td>0.0</td>\n",
       "      <td>0.0</td>\n",
       "    </tr>\n",
       "    <tr>\n",
       "      <th>2</th>\n",
       "      <td>Introducción_Ingeniería_Industrial</td>\n",
       "      <td>8830-0001</td>\n",
       "      <td>0.0</td>\n",
       "      <td>0.0</td>\n",
       "      <td>0.0</td>\n",
       "      <td>1.0</td>\n",
       "      <td>0.0</td>\n",
       "      <td>0.0</td>\n",
       "      <td>0.0</td>\n",
       "      <td>0.0</td>\n",
       "      <td>0.0</td>\n",
       "      <td>0.0</td>\n",
       "      <td>0.0</td>\n",
       "      <td>0.0</td>\n",
       "      <td>0.0</td>\n",
       "      <td>0.0</td>\n",
       "      <td>0.0</td>\n",
       "      <td>0.0</td>\n",
       "      <td>0.0</td>\n",
       "      <td>0.0</td>\n",
       "      <td>0.0</td>\n",
       "      <td>0.0</td>\n",
       "      <td>0.0</td>\n",
       "      <td>0.0</td>\n",
       "      <td>0.0</td>\n",
       "    </tr>\n",
       "    <tr>\n",
       "      <th>3</th>\n",
       "      <td>Fundamentos_dibujo_CAD</td>\n",
       "      <td>2027-0059</td>\n",
       "      <td>0.0</td>\n",
       "      <td>0.0</td>\n",
       "      <td>0.0</td>\n",
       "      <td>0.0</td>\n",
       "      <td>0.0</td>\n",
       "      <td>0.0</td>\n",
       "      <td>0.0</td>\n",
       "      <td>0.0</td>\n",
       "      <td>0.0</td>\n",
       "      <td>0.0</td>\n",
       "      <td>0.0</td>\n",
       "      <td>0.0</td>\n",
       "      <td>0.0</td>\n",
       "      <td>1.0</td>\n",
       "      <td>0.0</td>\n",
       "      <td>0.0</td>\n",
       "      <td>0.0</td>\n",
       "      <td>0.0</td>\n",
       "      <td>0.0</td>\n",
       "      <td>0.0</td>\n",
       "      <td>0.0</td>\n",
       "      <td>0.0</td>\n",
       "      <td>0.0</td>\n",
       "    </tr>\n",
       "    <tr>\n",
       "      <th>4</th>\n",
       "      <td>Fundamentos_dibujo_CAD</td>\n",
       "      <td>2027-0059</td>\n",
       "      <td>0.0</td>\n",
       "      <td>0.0</td>\n",
       "      <td>0.0</td>\n",
       "      <td>0.0</td>\n",
       "      <td>0.0</td>\n",
       "      <td>0.0</td>\n",
       "      <td>0.0</td>\n",
       "      <td>0.0</td>\n",
       "      <td>0.0</td>\n",
       "      <td>0.0</td>\n",
       "      <td>0.0</td>\n",
       "      <td>0.0</td>\n",
       "      <td>0.0</td>\n",
       "      <td>0.0</td>\n",
       "      <td>0.0</td>\n",
       "      <td>0.0</td>\n",
       "      <td>0.0</td>\n",
       "      <td>0.0</td>\n",
       "      <td>0.0</td>\n",
       "      <td>0.0</td>\n",
       "      <td>0.0</td>\n",
       "      <td>0.0</td>\n",
       "      <td>0.0</td>\n",
       "    </tr>\n",
       "  </tbody>\n",
       "</table>\n",
       "</div>"
      ],
      "text/plain": [
       "                           ASIGNATURA     codigo  000326151  000336392   \n",
       "0  Introducción_Ingeniería_Industrial  8830-0001        0.0        0.0  \\\n",
       "1  Introducción_Ingeniería_Industrial  8830-0001        0.0        0.0   \n",
       "2  Introducción_Ingeniería_Industrial  8830-0001        0.0        0.0   \n",
       "3              Fundamentos_dibujo_CAD  2027-0059        0.0        0.0   \n",
       "4              Fundamentos_dibujo_CAD  2027-0059        0.0        0.0   \n",
       "\n",
       "   000183645  000274691  000259554  000331121  000219830  000187061   \n",
       "0        0.0        0.0        0.0        0.0        0.0        0.0  \\\n",
       "1        0.0        0.0        2.0        0.0        0.0        0.0   \n",
       "2        0.0        1.0        0.0        0.0        0.0        0.0   \n",
       "3        0.0        0.0        0.0        0.0        0.0        0.0   \n",
       "4        0.0        0.0        0.0        0.0        0.0        0.0   \n",
       "\n",
       "   000277461  000170520  000226130  000182876  000404903  000234541   \n",
       "0        0.0        0.0        0.0        3.0        0.0        0.0  \\\n",
       "1        0.0        0.0        0.0        0.0        0.0        0.0   \n",
       "2        0.0        0.0        0.0        0.0        0.0        0.0   \n",
       "3        0.0        0.0        0.0        0.0        0.0        1.0   \n",
       "4        0.0        0.0        0.0        0.0        0.0        0.0   \n",
       "\n",
       "   000437130  000284431  000182886  000335859  00060867  000228837  000024131   \n",
       "0        0.0        0.0        0.0        0.0       0.0        0.0        0.0  \\\n",
       "1        0.0        0.0        0.0        0.0       0.0        0.0        0.0   \n",
       "2        0.0        0.0        0.0        0.0       0.0        0.0        0.0   \n",
       "3        0.0        0.0        0.0        0.0       0.0        0.0        0.0   \n",
       "4        0.0        0.0        0.0        0.0       0.0        0.0        0.0   \n",
       "\n",
       "   000176738  000120461  \n",
       "0        0.0        0.0  \n",
       "1        0.0        0.0  \n",
       "2        0.0        0.0  \n",
       "3        0.0        0.0  \n",
       "4        0.0        0.0  "
      ]
     },
     "metadata": {},
     "output_type": "display_data"
    }
   ],
   "source": [
    "idoneidad=pd.read_excel('Facultad_ingenieria3_OK.xlsx', sheet_name='docente_curso')\n",
    "\n",
    "\n",
    "# remove final space from column names\n",
    "idoneidad.columns = idoneidad.columns.str.strip()\n",
    "idoneidad.rename(columns={'ASIGNATURA ':'ASIGNATURA'}, inplace=True)\n",
    "\n",
    "display(idoneidad.head())\n",
    "\n",
    "idoneidad[\"ASIGNATURA\"].fillna(method=\"ffill\",inplace=True)\n",
    "idoneidad[\"codigo\"]=idoneidad[\"codigo\"].apply(lambda x: x[:9])\n",
    "idoneidad[\"ASIGNATURA\"]=idoneidad[\"ASIGNATURA\"].apply(lambda x: x[10:])\n",
    "# replaces all zeros with NaN\n",
    "idoneidad.replace(0, np.nan, inplace=True)\n",
    "\n",
    "cols=idoneidad.columns\n",
    "cols=list(cols)[1:]\n",
    "\n",
    "\n",
    "idoneidad=idoneidad.melt(id_vars=['codigo', 'ASIGNATURA'], value_vars=cols, var_name='docente', value_name='idoneidad').dropna(subset=['idoneidad'])\n",
    "idoneidad['idoneidad']=idoneidad.apply(lambda x: (x['codigo'], x['idoneidad']), axis=1)\n",
    "idoneidad['docente']=idoneidad.docente.astype(int)\n",
    "idoneidad=idoneidad.groupby('docente').agg(list)[['idoneidad']].reset_index()\n",
    "idoneidad['idoneidad']=idoneidad['idoneidad'].apply(lambda x: {i[0]:i[1] for i in x})\n",
    "idoneidad={i['docente']:i for i in idoneidad.to_dict('records')}\n",
    "json.dump(idoneidad, open('data/idoneidad.json', 'w'), indent=4)"
   ]
  },
  {
   "attachments": {},
   "cell_type": "markdown",
   "metadata": {},
   "source": []
  },
  {
   "cell_type": "code",
   "execution_count": 8,
   "metadata": {
    "ExecuteTime": {
     "end_time": "2023-04-07T00:46:17.016595Z",
     "start_time": "2023-04-07T00:46:16.916372Z"
    }
   },
   "outputs": [],
   "source": [
    "labor_instruccional=pd.read_excel('Facultad_ingenieria3_OK.xlsx', sheet_name='labor_instruccional')\n",
    "labor_instruccional.columns=labor_instruccional.columns.str.strip()\n",
    "dict_labor={i['ID']:i for i in labor_instruccional.to_dict('records')}\n",
    "json.dump(dict_labor, open('data/labor_instruccional.json', 'w'), indent=4)"
   ]
  },
  {
   "attachments": {},
   "cell_type": "markdown",
   "metadata": {},
   "source": [
    "# Horas reglamentarias"
   ]
  },
  {
   "cell_type": "code",
   "execution_count": 9,
   "metadata": {
    "ExecuteTime": {
     "end_time": "2023-04-07T00:46:20.584838Z",
     "start_time": "2023-04-07T00:46:19.490587Z"
    }
   },
   "outputs": [],
   "source": [
    "horas_reglamento=pd.read_excel('Facultad_ingenieria3_OK.xlsx', sheet_name='max_horas')\n",
    "horas_reglamento.columns=horas_reglamento.columns.str.strip()\n",
    "dict_horas_reglamento={i['n_cursos']:i for i in horas_reglamento.to_dict('records')}\n",
    "json.dump(dict_horas_reglamento, open('data/horas_reglamento.json', 'w'), indent=4)"
   ]
  },
  {
   "attachments": {},
   "cell_type": "markdown",
   "metadata": {},
   "source": [
    "# cursos - requerimientos - tipo_sala"
   ]
  },
  {
   "cell_type": "code",
   "execution_count": 10,
   "metadata": {
    "ExecuteTime": {
     "end_time": "2023-04-07T00:46:21.859793Z",
     "start_time": "2023-04-07T00:46:21.719947Z"
    }
   },
   "outputs": [],
   "source": [
    "grupo_requerimiento=pd.read_excel('Facultad_ingenieria3_OK.xlsx', sheet_name='grupo_requerimiento')\n",
    "grupo_requerimiento.columns=grupo_requerimiento.columns.str.strip()\n",
    "grupo_requerimiento.dropna(subset=['codigo'], inplace=True)\n",
    "grupo_requerimiento.rename(columns={'cursos':'nombre'}, inplace=True)\n",
    "grupo_requerimiento={i['codigo']:i for i in grupo_requerimiento.to_dict('records')}\n",
    "json.dump(grupo_requerimiento, open('data/grupo_requerimiento.json', 'w'), indent=4)"
   ]
  },
  {
   "cell_type": "code",
   "execution_count": 11,
   "metadata": {
    "ExecuteTime": {
     "end_time": "2023-04-07T00:46:22.698286Z",
     "start_time": "2023-04-07T00:46:22.610819Z"
    }
   },
   "outputs": [],
   "source": [
    "grupo_requerimiento=pd.read_excel('Facultad_ingenieria3_OK.xlsx', sheet_name='grupo_requerimiento')\n",
    "grupo_requerimiento.columns=grupo_requerimiento.columns.str.strip()\n",
    "\n",
    "grupo_requerimiento.dropna(subset=['codigo'], inplace=True)\n",
    "dict_curso_codigo=grupo_requerimiento.set_index('cursos').to_dict()['codigo']\n"
   ]
  },
  {
   "cell_type": "code",
   "execution_count": 12,
   "metadata": {
    "ExecuteTime": {
     "end_time": "2023-04-07T00:46:23.926814Z",
     "start_time": "2023-04-07T00:46:23.797051Z"
    }
   },
   "outputs": [],
   "source": [
    "ubicacion_semestral=pd.read_excel('Facultad_ingenieria3_OK.xlsx', sheet_name='ubicacion_semestral')\n",
    "ubicacion_semestral.columns=ubicacion_semestral.columns.str.strip()\n",
    "ubicacion_semestral={i['codigo']:i for i in ubicacion_semestral.to_dict('records')}\n",
    "json.dump(ubicacion_semestral, open('data/ubicacion_semestral.json', 'w'), indent=4)"
   ]
  },
  {
   "attachments": {},
   "cell_type": "markdown",
   "metadata": {
    "collapsed": false
   },
   "source": [
    "# cursos - requerimientos - tipo_sala"
   ]
  },
  {
   "cell_type": "code",
   "execution_count": 13,
   "metadata": {
    "ExecuteTime": {
     "end_time": "2023-04-07T01:09:58.093334Z",
     "start_time": "2023-04-07T01:09:57.228065Z"
    },
    "collapsed": false
   },
   "outputs": [
    {
     "ename": "ValueError",
     "evalue": "Worksheet named 'capac_salon' not found",
     "output_type": "error",
     "traceback": [
      "\u001b[0;31m---------------------------------------------------------------------------\u001b[0m",
      "\u001b[0;31mValueError\u001b[0m                                Traceback (most recent call last)",
      "Cell \u001b[0;32mIn[13], line 1\u001b[0m\n\u001b[0;32m----> 1\u001b[0m capacidad_sala\u001b[39m=\u001b[39mpd\u001b[39m.\u001b[39;49mread_excel(\u001b[39m'\u001b[39;49m\u001b[39mFacultad_ingenieria3_OK.xlsx\u001b[39;49m\u001b[39m'\u001b[39;49m, sheet_name\u001b[39m=\u001b[39;49m\u001b[39m'\u001b[39;49m\u001b[39mcapac_salon\u001b[39;49m\u001b[39m'\u001b[39;49m)\n\u001b[1;32m      2\u001b[0m capacidad_sala\u001b[39m.\u001b[39mcolumns\u001b[39m=\u001b[39mcapacidad_sala\u001b[39m.\u001b[39mcolumns\u001b[39m.\u001b[39mstr\u001b[39m.\u001b[39mstrip()\n\u001b[1;32m      3\u001b[0m capacidad_sala\u001b[39m=\u001b[39m{i[\u001b[39m'\u001b[39m\u001b[39maula\u001b[39m\u001b[39m'\u001b[39m]:i \u001b[39mfor\u001b[39;00m i \u001b[39min\u001b[39;00m capacidad_sala\u001b[39m.\u001b[39mto_dict(\u001b[39m'\u001b[39m\u001b[39mrecords\u001b[39m\u001b[39m'\u001b[39m)}\n",
      "File \u001b[0;32m/Library/Frameworks/Python.framework/Versions/3.9/lib/python3.9/site-packages/pandas/io/excel/_base.py:486\u001b[0m, in \u001b[0;36mread_excel\u001b[0;34m(io, sheet_name, header, names, index_col, usecols, dtype, engine, converters, true_values, false_values, skiprows, nrows, na_values, keep_default_na, na_filter, verbose, parse_dates, date_parser, date_format, thousands, decimal, comment, skipfooter, storage_options, dtype_backend)\u001b[0m\n\u001b[1;32m    480\u001b[0m     \u001b[39mraise\u001b[39;00m \u001b[39mValueError\u001b[39;00m(\n\u001b[1;32m    481\u001b[0m         \u001b[39m\"\u001b[39m\u001b[39mEngine should not be specified when passing \u001b[39m\u001b[39m\"\u001b[39m\n\u001b[1;32m    482\u001b[0m         \u001b[39m\"\u001b[39m\u001b[39man ExcelFile - ExcelFile already has the engine set\u001b[39m\u001b[39m\"\u001b[39m\n\u001b[1;32m    483\u001b[0m     )\n\u001b[1;32m    485\u001b[0m \u001b[39mtry\u001b[39;00m:\n\u001b[0;32m--> 486\u001b[0m     data \u001b[39m=\u001b[39m io\u001b[39m.\u001b[39;49mparse(\n\u001b[1;32m    487\u001b[0m         sheet_name\u001b[39m=\u001b[39;49msheet_name,\n\u001b[1;32m    488\u001b[0m         header\u001b[39m=\u001b[39;49mheader,\n\u001b[1;32m    489\u001b[0m         names\u001b[39m=\u001b[39;49mnames,\n\u001b[1;32m    490\u001b[0m         index_col\u001b[39m=\u001b[39;49mindex_col,\n\u001b[1;32m    491\u001b[0m         usecols\u001b[39m=\u001b[39;49musecols,\n\u001b[1;32m    492\u001b[0m         dtype\u001b[39m=\u001b[39;49mdtype,\n\u001b[1;32m    493\u001b[0m         converters\u001b[39m=\u001b[39;49mconverters,\n\u001b[1;32m    494\u001b[0m         true_values\u001b[39m=\u001b[39;49mtrue_values,\n\u001b[1;32m    495\u001b[0m         false_values\u001b[39m=\u001b[39;49mfalse_values,\n\u001b[1;32m    496\u001b[0m         skiprows\u001b[39m=\u001b[39;49mskiprows,\n\u001b[1;32m    497\u001b[0m         nrows\u001b[39m=\u001b[39;49mnrows,\n\u001b[1;32m    498\u001b[0m         na_values\u001b[39m=\u001b[39;49mna_values,\n\u001b[1;32m    499\u001b[0m         keep_default_na\u001b[39m=\u001b[39;49mkeep_default_na,\n\u001b[1;32m    500\u001b[0m         na_filter\u001b[39m=\u001b[39;49mna_filter,\n\u001b[1;32m    501\u001b[0m         verbose\u001b[39m=\u001b[39;49mverbose,\n\u001b[1;32m    502\u001b[0m         parse_dates\u001b[39m=\u001b[39;49mparse_dates,\n\u001b[1;32m    503\u001b[0m         date_parser\u001b[39m=\u001b[39;49mdate_parser,\n\u001b[1;32m    504\u001b[0m         date_format\u001b[39m=\u001b[39;49mdate_format,\n\u001b[1;32m    505\u001b[0m         thousands\u001b[39m=\u001b[39;49mthousands,\n\u001b[1;32m    506\u001b[0m         decimal\u001b[39m=\u001b[39;49mdecimal,\n\u001b[1;32m    507\u001b[0m         comment\u001b[39m=\u001b[39;49mcomment,\n\u001b[1;32m    508\u001b[0m         skipfooter\u001b[39m=\u001b[39;49mskipfooter,\n\u001b[1;32m    509\u001b[0m         dtype_backend\u001b[39m=\u001b[39;49mdtype_backend,\n\u001b[1;32m    510\u001b[0m     )\n\u001b[1;32m    511\u001b[0m \u001b[39mfinally\u001b[39;00m:\n\u001b[1;32m    512\u001b[0m     \u001b[39m# make sure to close opened file handles\u001b[39;00m\n\u001b[1;32m    513\u001b[0m     \u001b[39mif\u001b[39;00m should_close:\n",
      "File \u001b[0;32m/Library/Frameworks/Python.framework/Versions/3.9/lib/python3.9/site-packages/pandas/io/excel/_base.py:1551\u001b[0m, in \u001b[0;36mExcelFile.parse\u001b[0;34m(self, sheet_name, header, names, index_col, usecols, converters, true_values, false_values, skiprows, nrows, na_values, parse_dates, date_parser, date_format, thousands, comment, skipfooter, dtype_backend, **kwds)\u001b[0m\n\u001b[1;32m   1518\u001b[0m \u001b[39mdef\u001b[39;00m \u001b[39mparse\u001b[39m(\n\u001b[1;32m   1519\u001b[0m     \u001b[39mself\u001b[39m,\n\u001b[1;32m   1520\u001b[0m     sheet_name: \u001b[39mstr\u001b[39m \u001b[39m|\u001b[39m \u001b[39mint\u001b[39m \u001b[39m|\u001b[39m \u001b[39mlist\u001b[39m[\u001b[39mint\u001b[39m] \u001b[39m|\u001b[39m \u001b[39mlist\u001b[39m[\u001b[39mstr\u001b[39m] \u001b[39m|\u001b[39m \u001b[39mNone\u001b[39;00m \u001b[39m=\u001b[39m \u001b[39m0\u001b[39m,\n\u001b[0;32m   (...)\u001b[0m\n\u001b[1;32m   1538\u001b[0m     \u001b[39m*\u001b[39m\u001b[39m*\u001b[39mkwds,\n\u001b[1;32m   1539\u001b[0m ) \u001b[39m-\u001b[39m\u001b[39m>\u001b[39m DataFrame \u001b[39m|\u001b[39m \u001b[39mdict\u001b[39m[\u001b[39mstr\u001b[39m, DataFrame] \u001b[39m|\u001b[39m \u001b[39mdict\u001b[39m[\u001b[39mint\u001b[39m, DataFrame]:\n\u001b[1;32m   1540\u001b[0m \u001b[39m    \u001b[39m\u001b[39m\"\"\"\u001b[39;00m\n\u001b[1;32m   1541\u001b[0m \u001b[39m    Parse specified sheet(s) into a DataFrame.\u001b[39;00m\n\u001b[1;32m   1542\u001b[0m \n\u001b[0;32m   (...)\u001b[0m\n\u001b[1;32m   1549\u001b[0m \u001b[39m        DataFrame from the passed in Excel file.\u001b[39;00m\n\u001b[1;32m   1550\u001b[0m \u001b[39m    \"\"\"\u001b[39;00m\n\u001b[0;32m-> 1551\u001b[0m     \u001b[39mreturn\u001b[39;00m \u001b[39mself\u001b[39;49m\u001b[39m.\u001b[39;49m_reader\u001b[39m.\u001b[39;49mparse(\n\u001b[1;32m   1552\u001b[0m         sheet_name\u001b[39m=\u001b[39;49msheet_name,\n\u001b[1;32m   1553\u001b[0m         header\u001b[39m=\u001b[39;49mheader,\n\u001b[1;32m   1554\u001b[0m         names\u001b[39m=\u001b[39;49mnames,\n\u001b[1;32m   1555\u001b[0m         index_col\u001b[39m=\u001b[39;49mindex_col,\n\u001b[1;32m   1556\u001b[0m         usecols\u001b[39m=\u001b[39;49musecols,\n\u001b[1;32m   1557\u001b[0m         converters\u001b[39m=\u001b[39;49mconverters,\n\u001b[1;32m   1558\u001b[0m         true_values\u001b[39m=\u001b[39;49mtrue_values,\n\u001b[1;32m   1559\u001b[0m         false_values\u001b[39m=\u001b[39;49mfalse_values,\n\u001b[1;32m   1560\u001b[0m         skiprows\u001b[39m=\u001b[39;49mskiprows,\n\u001b[1;32m   1561\u001b[0m         nrows\u001b[39m=\u001b[39;49mnrows,\n\u001b[1;32m   1562\u001b[0m         na_values\u001b[39m=\u001b[39;49mna_values,\n\u001b[1;32m   1563\u001b[0m         parse_dates\u001b[39m=\u001b[39;49mparse_dates,\n\u001b[1;32m   1564\u001b[0m         date_parser\u001b[39m=\u001b[39;49mdate_parser,\n\u001b[1;32m   1565\u001b[0m         date_format\u001b[39m=\u001b[39;49mdate_format,\n\u001b[1;32m   1566\u001b[0m         thousands\u001b[39m=\u001b[39;49mthousands,\n\u001b[1;32m   1567\u001b[0m         comment\u001b[39m=\u001b[39;49mcomment,\n\u001b[1;32m   1568\u001b[0m         skipfooter\u001b[39m=\u001b[39;49mskipfooter,\n\u001b[1;32m   1569\u001b[0m         dtype_backend\u001b[39m=\u001b[39;49mdtype_backend,\n\u001b[1;32m   1570\u001b[0m         \u001b[39m*\u001b[39;49m\u001b[39m*\u001b[39;49mkwds,\n\u001b[1;32m   1571\u001b[0m     )\n",
      "File \u001b[0;32m/Library/Frameworks/Python.framework/Versions/3.9/lib/python3.9/site-packages/pandas/io/excel/_base.py:746\u001b[0m, in \u001b[0;36mBaseExcelReader.parse\u001b[0;34m(self, sheet_name, header, names, index_col, usecols, dtype, true_values, false_values, skiprows, nrows, na_values, verbose, parse_dates, date_parser, date_format, thousands, decimal, comment, skipfooter, dtype_backend, **kwds)\u001b[0m\n\u001b[1;32m    743\u001b[0m     \u001b[39mprint\u001b[39m(\u001b[39mf\u001b[39m\u001b[39m\"\u001b[39m\u001b[39mReading sheet \u001b[39m\u001b[39m{\u001b[39;00masheetname\u001b[39m}\u001b[39;00m\u001b[39m\"\u001b[39m)\n\u001b[1;32m    745\u001b[0m \u001b[39mif\u001b[39;00m \u001b[39misinstance\u001b[39m(asheetname, \u001b[39mstr\u001b[39m):\n\u001b[0;32m--> 746\u001b[0m     sheet \u001b[39m=\u001b[39m \u001b[39mself\u001b[39;49m\u001b[39m.\u001b[39;49mget_sheet_by_name(asheetname)\n\u001b[1;32m    747\u001b[0m \u001b[39melse\u001b[39;00m:  \u001b[39m# assume an integer if not a string\u001b[39;00m\n\u001b[1;32m    748\u001b[0m     sheet \u001b[39m=\u001b[39m \u001b[39mself\u001b[39m\u001b[39m.\u001b[39mget_sheet_by_index(asheetname)\n",
      "File \u001b[0;32m/Library/Frameworks/Python.framework/Versions/3.9/lib/python3.9/site-packages/pandas/io/excel/_openpyxl.py:569\u001b[0m, in \u001b[0;36mOpenpyxlReader.get_sheet_by_name\u001b[0;34m(self, name)\u001b[0m\n\u001b[1;32m    568\u001b[0m \u001b[39mdef\u001b[39;00m \u001b[39mget_sheet_by_name\u001b[39m(\u001b[39mself\u001b[39m, name: \u001b[39mstr\u001b[39m):\n\u001b[0;32m--> 569\u001b[0m     \u001b[39mself\u001b[39;49m\u001b[39m.\u001b[39;49mraise_if_bad_sheet_by_name(name)\n\u001b[1;32m    570\u001b[0m     \u001b[39mreturn\u001b[39;00m \u001b[39mself\u001b[39m\u001b[39m.\u001b[39mbook[name]\n",
      "File \u001b[0;32m/Library/Frameworks/Python.framework/Versions/3.9/lib/python3.9/site-packages/pandas/io/excel/_base.py:597\u001b[0m, in \u001b[0;36mBaseExcelReader.raise_if_bad_sheet_by_name\u001b[0;34m(self, name)\u001b[0m\n\u001b[1;32m    595\u001b[0m \u001b[39mdef\u001b[39;00m \u001b[39mraise_if_bad_sheet_by_name\u001b[39m(\u001b[39mself\u001b[39m, name: \u001b[39mstr\u001b[39m) \u001b[39m-\u001b[39m\u001b[39m>\u001b[39m \u001b[39mNone\u001b[39;00m:\n\u001b[1;32m    596\u001b[0m     \u001b[39mif\u001b[39;00m name \u001b[39mnot\u001b[39;00m \u001b[39min\u001b[39;00m \u001b[39mself\u001b[39m\u001b[39m.\u001b[39msheet_names:\n\u001b[0;32m--> 597\u001b[0m         \u001b[39mraise\u001b[39;00m \u001b[39mValueError\u001b[39;00m(\u001b[39mf\u001b[39m\u001b[39m\"\u001b[39m\u001b[39mWorksheet named \u001b[39m\u001b[39m'\u001b[39m\u001b[39m{\u001b[39;00mname\u001b[39m}\u001b[39;00m\u001b[39m'\u001b[39m\u001b[39m not found\u001b[39m\u001b[39m\"\u001b[39m)\n",
      "\u001b[0;31mValueError\u001b[0m: Worksheet named 'capac_salon' not found"
     ]
    }
   ],
   "source": [
    "capacidad_sala=pd.read_excel('Facultad_ingenieria3_OK.xlsx', sheet_name='capac_salon')\n",
    "capacidad_sala.columns=capacidad_sala.columns.str.strip()\n",
    "capacidad_sala={i['aula']:i for i in capacidad_sala.to_dict('records')}\n",
    "json.dump(capacidad_sala, open('data/capacidad_sala.json', 'w'), indent=4)"
   ]
  },
  {
   "attachments": {},
   "cell_type": "markdown",
   "metadata": {
    "collapsed": false
   },
   "source": []
  }
 ],
 "metadata": {
  "kernelspec": {
   "display_name": "apricot-env",
   "language": "python",
   "name": "python3"
  },
  "language_info": {
   "codemirror_mode": {
    "name": "ipython",
    "version": 3
   },
   "file_extension": ".py",
   "mimetype": "text/x-python",
   "name": "python",
   "nbconvert_exporter": "python",
   "pygments_lexer": "ipython3",
   "version": "3.9.13"
  },
  "orig_nbformat": 4
 },
 "nbformat": 4,
 "nbformat_minor": 2
}
