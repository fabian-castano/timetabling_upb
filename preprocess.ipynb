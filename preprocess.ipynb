{
 "cells": [
  {
   "cell_type": "code",
   "execution_count": null,
   "metadata": {
    "pycharm": {
     "is_executing": true
    }
   },
   "outputs": [],
   "source": [
    "import pandas as pd\n",
    "import numpy as np\n",
    "import json\n",
    "\n",
    "pd.set_option('display.max_columns', 500)\n",
    "pd.set_option('display.max_rows', 500)"
   ]
  },
  {
   "attachments": {},
   "cell_type": "markdown",
   "metadata": {},
   "source": [
    "# Explore file"
   ]
  },
  {
   "cell_type": "code",
   "execution_count": 2,
   "metadata": {},
   "outputs": [],
   "source": [
    "# enumerate excel sheets\n",
    "horas_curso=pd.read_excel('Facultad_ingenieria3_OK.xlsx', sheet_name='horas_curso')\n",
    "horas_curso.columns=horas_curso.columns.str.strip()\n",
    "horas_curso=horas_curso[['ASIGNATURA','codigo', 'horas', 'cantidad de cursos', '# estudiantes',\n",
    "       'Horas preparacion de clase']]\n",
    "horas_curso.columns=['ASIGNATURA', 'codigo','horas', 'cantidad_de_cursos', 'total_estudiantes','horas_no_instruccion']\n",
    "horas_curso.dropna(subset=['codigo'], inplace=True)\n",
    "horas_curso['codigo']=horas_curso['codigo'].apply(lambda x: x[:9])\n",
    "#horas_curso['ASIGNATURA']=horas_curso['ASIGNATURA'].apply(lambda x: x[10:])\n",
    "dict_horas={i['codigo']:i for i in horas_curso.to_dict('records')}\n",
    "\n",
    "#Save to json file for later use\n",
    "json.dump(dict_horas, open('data/horas_curso.json', 'w'), indent=4)\n"
   ]
  },
  {
   "cell_type": "code",
   "execution_count": 3,
   "metadata": {},
   "outputs": [
    {
     "ename": "KeyError",
     "evalue": "'ASIGNATURA'",
     "output_type": "error",
     "traceback": [
      "\u001B[0;31m---------------------------------------------------------------------------\u001B[0m",
      "\u001B[0;31mKeyError\u001B[0m                                  Traceback (most recent call last)",
      "File \u001B[0;32m~/opt/anaconda3/envs/apricot-env/lib/python3.9/site-packages/pandas/core/indexes/base.py:3625\u001B[0m, in \u001B[0;36mIndex.get_loc\u001B[0;34m(self, key)\u001B[0m\n\u001B[1;32m   3624\u001B[0m \u001B[39mtry\u001B[39;00m:\n\u001B[0;32m-> 3625\u001B[0m     \u001B[39mreturn\u001B[39;00m \u001B[39mself\u001B[39;49m\u001B[39m.\u001B[39;49m_engine\u001B[39m.\u001B[39;49mget_loc(casted_key)\n\u001B[1;32m   3626\u001B[0m \u001B[39mexcept\u001B[39;00m \u001B[39mKeyError\u001B[39;00m \u001B[39mas\u001B[39;00m err:\n",
      "File \u001B[0;32m~/opt/anaconda3/envs/apricot-env/lib/python3.9/site-packages/pandas/_libs/index.pyx:147\u001B[0m, in \u001B[0;36mpandas._libs.index.IndexEngine.get_loc\u001B[0;34m()\u001B[0m\n",
      "File \u001B[0;32m~/opt/anaconda3/envs/apricot-env/lib/python3.9/site-packages/pandas/_libs/index.pyx:176\u001B[0m, in \u001B[0;36mpandas._libs.index.IndexEngine.get_loc\u001B[0;34m()\u001B[0m\n",
      "File \u001B[0;32mpandas/_libs/hashtable_class_helper.pxi:7080\u001B[0m, in \u001B[0;36mpandas._libs.hashtable.PyObjectHashTable.get_item\u001B[0;34m()\u001B[0m\n",
      "File \u001B[0;32mpandas/_libs/hashtable_class_helper.pxi:7088\u001B[0m, in \u001B[0;36mpandas._libs.hashtable.PyObjectHashTable.get_item\u001B[0;34m()\u001B[0m\n",
      "\u001B[0;31mKeyError\u001B[0m: 'ASIGNATURA'",
      "\nThe above exception was the direct cause of the following exception:\n",
      "\u001B[0;31mKeyError\u001B[0m                                  Traceback (most recent call last)",
      "\u001B[1;32m/Volumes/GoogleDrive-117712932338303636702/My Drive/WilliamAlzate/timetabling_upb/preprocess.ipynb Cell 4\u001B[0m in \u001B[0;36m<cell line: 7>\u001B[0;34m()\u001B[0m\n\u001B[1;32m      <a href='vscode-notebook-cell:/Volumes/GoogleDrive-117712932338303636702/My%20Drive/WilliamAlzate/timetabling_upb/preprocess.ipynb#W4sZmlsZQ%3D%3D?line=4'>5</a>\u001B[0m idoneidad\u001B[39m.\u001B[39mcolumns \u001B[39m=\u001B[39m idoneidad\u001B[39m.\u001B[39mcolumns\u001B[39m.\u001B[39mstr\u001B[39m.\u001B[39mstrip()\n\u001B[1;32m      <a href='vscode-notebook-cell:/Volumes/GoogleDrive-117712932338303636702/My%20Drive/WilliamAlzate/timetabling_upb/preprocess.ipynb#W4sZmlsZQ%3D%3D?line=5'>6</a>\u001B[0m idoneidad\u001B[39m.\u001B[39mrename(columns\u001B[39m=\u001B[39m{\u001B[39m'\u001B[39m\u001B[39mASIGNATURA \u001B[39m\u001B[39m'\u001B[39m:\u001B[39m'\u001B[39m\u001B[39mASIGNATURA\u001B[39m\u001B[39m'\u001B[39m}, inplace\u001B[39m=\u001B[39m\u001B[39mTrue\u001B[39;00m)\n\u001B[0;32m----> <a href='vscode-notebook-cell:/Volumes/GoogleDrive-117712932338303636702/My%20Drive/WilliamAlzate/timetabling_upb/preprocess.ipynb#W4sZmlsZQ%3D%3D?line=6'>7</a>\u001B[0m idoneidad[\u001B[39m\"\u001B[39;49m\u001B[39mASIGNATURA\u001B[39;49m\u001B[39m\"\u001B[39;49m]\u001B[39m.\u001B[39mfillna(method\u001B[39m=\u001B[39m\u001B[39m\"\u001B[39m\u001B[39mffill\u001B[39m\u001B[39m\"\u001B[39m,inplace\u001B[39m=\u001B[39m\u001B[39mTrue\u001B[39;00m)\n\u001B[1;32m      <a href='vscode-notebook-cell:/Volumes/GoogleDrive-117712932338303636702/My%20Drive/WilliamAlzate/timetabling_upb/preprocess.ipynb#W4sZmlsZQ%3D%3D?line=7'>8</a>\u001B[0m idoneidad[\u001B[39m\"\u001B[39m\u001B[39mcodigo\u001B[39m\u001B[39m\"\u001B[39m]\u001B[39m=\u001B[39midoneidad[\u001B[39m\"\u001B[39m\u001B[39mcodigo\u001B[39m\u001B[39m\"\u001B[39m]\u001B[39m.\u001B[39mapply(\u001B[39mlambda\u001B[39;00m x: x[:\u001B[39m9\u001B[39m])\n\u001B[1;32m      <a href='vscode-notebook-cell:/Volumes/GoogleDrive-117712932338303636702/My%20Drive/WilliamAlzate/timetabling_upb/preprocess.ipynb#W4sZmlsZQ%3D%3D?line=8'>9</a>\u001B[0m idoneidad[\u001B[39m\"\u001B[39m\u001B[39mASIGNATURA\u001B[39m\u001B[39m\"\u001B[39m]\u001B[39m=\u001B[39midoneidad[\u001B[39m\"\u001B[39m\u001B[39mASIGNATURA\u001B[39m\u001B[39m\"\u001B[39m]\u001B[39m.\u001B[39mapply(\u001B[39mlambda\u001B[39;00m x: x[\u001B[39m10\u001B[39m:])\n",
      "File \u001B[0;32m~/opt/anaconda3/envs/apricot-env/lib/python3.9/site-packages/pandas/core/frame.py:3740\u001B[0m, in \u001B[0;36mDataFrame.__getitem__\u001B[0;34m(self, key)\u001B[0m\n\u001B[1;32m   3738\u001B[0m \u001B[39mif\u001B[39;00m \u001B[39mself\u001B[39m\u001B[39m.\u001B[39mcolumns\u001B[39m.\u001B[39mnlevels \u001B[39m>\u001B[39m \u001B[39m1\u001B[39m:\n\u001B[1;32m   3739\u001B[0m     \u001B[39mreturn\u001B[39;00m \u001B[39mself\u001B[39m\u001B[39m.\u001B[39m_getitem_multilevel(key)\n\u001B[0;32m-> 3740\u001B[0m indexer \u001B[39m=\u001B[39m \u001B[39mself\u001B[39;49m\u001B[39m.\u001B[39;49mcolumns\u001B[39m.\u001B[39;49mget_loc(key)\n\u001B[1;32m   3741\u001B[0m \u001B[39mif\u001B[39;00m is_integer(indexer):\n\u001B[1;32m   3742\u001B[0m     indexer \u001B[39m=\u001B[39m [indexer]\n",
      "File \u001B[0;32m~/opt/anaconda3/envs/apricot-env/lib/python3.9/site-packages/pandas/core/indexes/base.py:3627\u001B[0m, in \u001B[0;36mIndex.get_loc\u001B[0;34m(self, key)\u001B[0m\n\u001B[1;32m   3625\u001B[0m     \u001B[39mreturn\u001B[39;00m \u001B[39mself\u001B[39m\u001B[39m.\u001B[39m_engine\u001B[39m.\u001B[39mget_loc(casted_key)\n\u001B[1;32m   3626\u001B[0m \u001B[39mexcept\u001B[39;00m \u001B[39mKeyError\u001B[39;00m \u001B[39mas\u001B[39;00m err:\n\u001B[0;32m-> 3627\u001B[0m     \u001B[39mraise\u001B[39;00m \u001B[39mKeyError\u001B[39;00m(key) \u001B[39mfrom\u001B[39;00m \u001B[39merr\u001B[39;00m\n\u001B[1;32m   3628\u001B[0m \u001B[39mexcept\u001B[39;00m \u001B[39mTypeError\u001B[39;00m:\n\u001B[1;32m   3629\u001B[0m     \u001B[39m# If we have a listlike key, _check_indexing_error will raise\u001B[39;00m\n\u001B[1;32m   3630\u001B[0m     \u001B[39m#  InvalidIndexError. Otherwise we fall through and re-raise\u001B[39;00m\n\u001B[1;32m   3631\u001B[0m     \u001B[39m#  the TypeError.\u001B[39;00m\n\u001B[1;32m   3632\u001B[0m     \u001B[39mself\u001B[39m\u001B[39m.\u001B[39m_check_indexing_error(key)\n",
      "\u001B[0;31mKeyError\u001B[0m: 'ASIGNATURA'"
     ]
    }
   ],
   "source": [
    "idoneidad=pd.read_excel('Facultad_ingenieria3_OK.xlsx', sheet_name='docente_curso')\n",
    "\n",
    "\n",
    "# remove final space from column names\n",
    "idoneidad.columns = idoneidad.columns.str.strip()\n",
    "idoneidad.rename(columns={'ASIGNATURA ':'ASIGNATURA'}, inplace=True)\n",
    "idoneidad[\"ASIGNATURA\"].fillna(method=\"ffill\",inplace=True)\n",
    "idoneidad[\"codigo\"]=idoneidad[\"codigo\"].apply(lambda x: x[:9])\n",
    "idoneidad[\"ASIGNATURA\"]=idoneidad[\"ASIGNATURA\"].apply(lambda x: x[10:])\n",
    "# replaces all zeros with NaN\n",
    "idoneidad.replace(0, np.nan, inplace=True)\n",
    "\n",
    "cols=idoneidad.columns\n",
    "cols=list(cols)[1:]\n",
    "\n",
    "\n",
    "idoneidad=idoneidad.melt(id_vars=['codigo', 'ASIGNATURA'], value_vars=cols, var_name='docente', value_name='idoneidad').dropna(subset=['idoneidad'])\n",
    "idoneidad['idoneidad']=idoneidad.apply(lambda x: (x['codigo'], x['idoneidad']), axis=1)\n",
    "idoneidad['docente']=idoneidad.docente.astype(int)\n",
    "idoneidad=idoneidad.groupby('docente').agg(list)[['idoneidad']].reset_index()\n",
    "idoneidad['idoneidad']=idoneidad['idoneidad'].apply(lambda x: {i[0]:i[1] for i in x})\n",
    "idoneidad={i['docente']:i for i in idoneidad.to_dict('records')}\n",
    "json.dump(idoneidad, open('data/idoneidad.json', 'w'), indent=4)"
   ]
  },
  {
   "attachments": {},
   "cell_type": "markdown",
   "metadata": {},
   "source": []
  },
  {
   "cell_type": "code",
   "execution_count": null,
   "metadata": {},
   "outputs": [],
   "source": [
    "labor_instruccional=pd.read_excel('Facultad_ingenieria3_OK.xlsx', sheet_name='labor_instruccional')\n",
    "labor_instruccional.columns=labor_instruccional.columns.str.strip()\n",
    "dict_labor={i['ID']:i for i in labor_instruccional.to_dict('records')}\n",
    "json.dump(dict_labor, open('data/labor_instruccional.json', 'w'), indent=4)"
   ]
  },
  {
   "attachments": {},
   "cell_type": "markdown",
   "metadata": {},
   "source": [
    "# Horas reglamentarias"
   ]
  },
  {
   "cell_type": "code",
   "execution_count": null,
   "metadata": {},
   "outputs": [],
   "source": [
    "horas_reglamento=pd.read_excel('Facultad_ingenieria3_OK.xlsx', sheet_name='max_horas')\n",
    "horas_reglamento.columns=horas_reglamento.columns.str.strip()\n",
    "dict_horas_reglamento={i['n_cursos']:i for i in horas_reglamento.to_dict('records')}\n",
    "json.dump(dict_horas_reglamento, open('data/horas_reglamento.json', 'w'), indent=4)"
   ]
  },
  {
   "attachments": {},
   "cell_type": "markdown",
   "metadata": {},
   "source": [
    "# cursos - requerimientos - tipo_sala"
   ]
  },
  {
   "cell_type": "code",
   "execution_count": null,
   "metadata": {},
   "outputs": [],
   "source": [
    "grupo_requerimiento=pd.read_excel('Facultad_ingenieria3_OK.xlsx', sheet_name='grupo_requerimiento')\n",
    "grupo_requerimiento.columns=grupo_requerimiento.columns.str.strip()\n",
    "grupo_requerimiento.dropna(subset=['codigo'], inplace=True)\n",
    "grupo_requerimiento.rename(columns={'cursos':'nombre'}, inplace=True)\n",
    "grupo_requerimiento={i['codigo']:i for i in grupo_requerimiento.to_dict('records')}\n",
    "json.dump(grupo_requerimiento, open('data/grupo_requerimiento.json', 'w'), indent=4)"
   ]
  },
  {
   "cell_type": "code",
   "execution_count": null,
   "metadata": {},
   "outputs": [],
   "source": [
    "grupo_requerimiento=pd.read_excel('Facultad_ingenieria3_OK.xlsx', sheet_name='grupo_requerimiento')\n",
    "grupo_requerimiento.columns=grupo_requerimiento.columns.str.strip()\n",
    "\n",
    "grupo_requerimiento.dropna(subset=['codigo'], inplace=True)\n",
    "dict_curso_codigo=grupo_requerimiento.set_index('cursos').to_dict()['codigo']\n"
   ]
  },
  {
   "cell_type": "code",
   "execution_count": null,
   "metadata": {},
   "outputs": [],
   "source": [
    "ubicacion_semestral=pd.read_excel('Facultad_ingenieria3_OK.xlsx', sheet_name='ubicacion_semestral')\n",
    "ubicacion_semestral.columns=ubicacion_semestral.columns.str.strip()\n",
    "ubicacion_semestral={i['codigo']:i for i in ubicacion_semestral.to_dict('records')}\n",
    "json.dump(ubicacion_semestral, open('data/ubicacion_semestral.json', 'w'), indent=4)"
   ]
  }
 ],
 "metadata": {
  "kernelspec": {
   "display_name": "apricot-env",
   "language": "python",
   "name": "python3"
  },
  "language_info": {
   "codemirror_mode": {
    "name": "ipython",
    "version": 3
   },
   "file_extension": ".py",
   "mimetype": "text/x-python",
   "name": "python",
   "nbconvert_exporter": "python",
   "pygments_lexer": "ipython3",
   "version": "3.9.12"
  },
  "orig_nbformat": 4
 },
 "nbformat": 4,
 "nbformat_minor": 2
}
