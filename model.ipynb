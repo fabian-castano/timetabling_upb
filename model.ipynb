{
  "cells": [
    {
      "cell_type": "markdown",
      "metadata": {
        "id": "view-in-github",
        "colab_type": "text"
      },
      "source": [
        "<a href=\"https://colab.research.google.com/github/fabian-castano/timetabling_upb/blob/transition-to-gurobi/model.ipynb\" target=\"_parent\"><img src=\"https://colab.research.google.com/assets/colab-badge.svg\" alt=\"Open In Colab\"/></a>"
      ]
    },
    {
      "cell_type": "code",
      "execution_count": null,
      "metadata": {
        "id": "Sn_VwK3LLhVw"
      },
      "outputs": [],
      "source": [
        "import pandas as pd\n",
        "import pulp as plp\n",
        "import json"
      ]
    },
    {
      "cell_type": "markdown",
      "metadata": {
        "id": "KYw8hgGRLhVy"
      },
      "source": [
        "# read data"
      ]
    },
    {
      "cell_type": "code",
      "execution_count": null,
      "metadata": {
        "id": "2hQZPDdCLhVz"
      },
      "outputs": [],
      "source": [
        "horas_curso=json.loads(open('data/horas_curso.json').read())\n",
        "idoneidad=json.loads(open('data/idoneidad.json').read())\n",
        "horas_reglamento=json.loads(open('data/horas_reglamento.json').read())\n",
        "labor_instruccional=json.loads(open('data/labor_instruccional.json').read())\n",
        "grupo_requerimiento=json.loads(open('data/grupo_requerimiento.json').read())"
      ]
    },
    {
      "cell_type": "code",
      "execution_count": null,
      "metadata": {
        "id": "GpEGjbPULhV0",
        "outputId": "3cd67d5d-75aa-4d31-a57a-25e15cff49a0"
      },
      "outputs": [
        {
          "data": {
            "text/plain": [
              "{'2027-0059': {'cursos': ' Fundamentos de Dibujo y CAD',\n",
              "  'codigo': '2027-0059',\n",
              "  'n_grupos': 1,\n",
              "  'req_salon': 1},\n",
              " '8830-0001': {'cursos': '\\nIntroducción a la Ingeniería Industrial',\n",
              "  'codigo': '8830-0001',\n",
              "  'n_grupos': 1,\n",
              "  'req_salon': 1},\n",
              " '9937-0021': {'cursos': 'Optativas del Ciclo Basico Disciplinar\\nMatrmatica operativa ',\n",
              "  'codigo': '9937-0021',\n",
              "  'n_grupos': 1,\n",
              "  'req_salon': 1},\n",
              " '9937-0062': {'cursos': ' Calculo    Diferencial',\n",
              "  'codigo': '9937-0062',\n",
              "  'n_grupos': 2,\n",
              "  'req_salon': 1},\n",
              " '6611-0004': {'cursos': 'Economia           ',\n",
              "  'codigo': '6611-0004',\n",
              "  'n_grupos': 2,\n",
              "  'req_salon': 1},\n",
              " '9937-0073': {'cursos': ' Calculo Integral         ',\n",
              "  'codigo': '9937-0073',\n",
              "  'n_grupos': 1,\n",
              "  'req_salon': 1},\n",
              " '9935-0031': {'cursos': 'Física Mecánica               ',\n",
              "  'codigo': '9935-0031',\n",
              "  'n_grupos': 1,\n",
              "  'req_salon': 1},\n",
              " '9937-0072': {'cursos': ' Algebra Lineal     ',\n",
              "  'codigo': '9937-0072',\n",
              "  'n_grupos': 1,\n",
              "  'req_salon': 1},\n",
              " '9939-0018': {'cursos': 'Fundamentos de Quimica',\n",
              "  'codigo': '9939-0018',\n",
              "  'n_grupos': 1,\n",
              "  'req_salon': 1},\n",
              " '5559-0014': {'cursos': 'Legislación          ',\n",
              "  'codigo': '5559-0014',\n",
              "  'n_grupos': 1,\n",
              "  'req_salon': 1},\n",
              " '8831-0028': {'cursos': 'Materiales  para Ingenieria       ',\n",
              "  'codigo': '8831-0028',\n",
              "  'n_grupos': 1,\n",
              "  'req_salon': 1},\n",
              " '9937-0074': {'cursos': 'Cálculo Vectorial',\n",
              "  'codigo': '9937-0074',\n",
              "  'n_grupos': 1,\n",
              "  'req_salon': 1},\n",
              " '9935-0032': {'cursos': 'Métodos Experimentales en Física',\n",
              "  'codigo': '9935-0032',\n",
              "  'n_grupos': 1,\n",
              "  'req_salon': 1},\n",
              " '9935-0033': {'cursos': ' Formulación y Evaluación de Proyectos\\n',\n",
              "  'codigo': '9935-0033',\n",
              "  'n_grupos': 1,\n",
              "  'req_salon': 1},\n",
              " '8830-0005': {'cursos': 'Organización del Trabajo     ',\n",
              "  'codigo': '8830-0005',\n",
              "  'n_grupos': 1,\n",
              "  'req_salon': 1},\n",
              " '9937-0011': {'cursos': 'Probabilidad e Inferencia Estadistica             ',\n",
              "  'codigo': '9937-0011',\n",
              "  'n_grupos': 1,\n",
              "  'req_salon': 1},\n",
              " '8830-0004': {'cursos': 'Procesos Industriales               ',\n",
              "  'codigo': '8830-0004',\n",
              "  'n_grupos': 1,\n",
              "  'req_salon': 1},\n",
              " '9935-0012': {'cursos': 'Termodinámica        ',\n",
              "  'codigo': '9935-0012',\n",
              "  'n_grupos': 1,\n",
              "  'req_salon': 1},\n",
              " '6069-0014': {'cursos': 'Mercadeo    ',\n",
              "  'codigo': '6069-0014',\n",
              "  'n_grupos': 1,\n",
              "  'req_salon': 1},\n",
              " '9937-0076': {'cursos': 'Ecuaciones Diferenciales          ',\n",
              "  'codigo': '9937-0076',\n",
              "  'n_grupos': 1,\n",
              "  'req_salon': 1},\n",
              " '5569-0011': {'cursos': 'Electiva CFH\\nCS',\n",
              "  'codigo': '5569-0011',\n",
              "  'n_grupos': 3,\n",
              "  'req_salon': 1},\n",
              " '8830-0010': {'cursos': 'Ergonomía y Seguridad  y salud en el trabajo                            ',\n",
              "  'codigo': '8830-0010',\n",
              "  'n_grupos': 1,\n",
              "  'req_salon': 1},\n",
              " '9937-0012': {'cursos': '\\nModelos de Regresón y Series de Tiempo\\n',\n",
              "  'codigo': '9937-0012',\n",
              "  'n_grupos': 1,\n",
              "  'req_salon': 1},\n",
              " '6612-0001': {'cursos': 'Costos y Presupuestos',\n",
              "  'codigo': '6612-0001',\n",
              "  'n_grupos': 1,\n",
              "  'req_salon': 1},\n",
              " '8828-0028': {'cursos': 'Electrotecnia Industrial                         ',\n",
              "  'codigo': '8828-0028',\n",
              "  'n_grupos': 1,\n",
              "  'req_salon': 1},\n",
              " '8830-0008': {'cursos': 'Control Estadísitico de Calidad                              ',\n",
              "  'codigo': '8830-0008',\n",
              "  'n_grupos': 1,\n",
              "  'req_salon': 1},\n",
              " '8833-021': {'cursos': '8833-0021     Metodología de la Investigación    ',\n",
              "  'codigo': '8833-021',\n",
              "  'n_grupos': 1,\n",
              "  'req_salon': 1},\n",
              " '5562-0013': {'cursos': 'Electiva CFH \\nCTC',\n",
              "  'codigo': '5562-0013',\n",
              "  'n_grupos': 2,\n",
              "  'req_salon': 1},\n",
              " '8830-0006': {'cursos': 'Planeación y Control de la Producción              ',\n",
              "  'codigo': '8830-0006',\n",
              "  'n_grupos': 1,\n",
              "  'req_salon': 1},\n",
              " '9937-0013': {'cursos': 'Diseño Experimental ',\n",
              "  'codigo': '9937-0013',\n",
              "  'n_grupos': 1,\n",
              "  'req_salon': 1},\n",
              " '6611-0088': {'cursos': 'Ingeniería Económica',\n",
              "  'codigo': '6611-0088',\n",
              "  'n_grupos': 1,\n",
              "  'req_salon': 1},\n",
              " '6069-0011': {'cursos': ' Administración y Gestión del Talento Humano',\n",
              "  'codigo': '6069-0011',\n",
              "  'n_grupos': 1,\n",
              "  'req_salon': 1},\n",
              " '8827-0008': {'cursos': 'Fundamentos de Computación  ',\n",
              "  'codigo': '8827-0008',\n",
              "  'n_grupos': 1,\n",
              "  'req_salon': 1},\n",
              " '8830-0007': {'cursos': 'Diseño y Mantenimiento de Plantas                ',\n",
              "  'codigo': '8830-0007',\n",
              "  'n_grupos': 1,\n",
              "  'req_salon': 1},\n",
              " '8830-0009': {'cursos': 'Optimización ',\n",
              "  'codigo': '8830-0009',\n",
              "  'n_grupos': 1,\n",
              "  'req_salon': 1},\n",
              " '6069-0018': {'cursos': 'Gestión Financiera',\n",
              "  'codigo': '6069-0018',\n",
              "  'n_grupos': 1,\n",
              "  'req_salon': 1},\n",
              " '6069-0127': {'cursos': ' Formulación y Evaluación de Proyectos\\n',\n",
              "  'codigo': '6069-0127',\n",
              "  'n_grupos': 1,\n",
              "  'req_salon': 1},\n",
              " '8830-0012': {'cursos': 'Sistemas de Gestion                          ',\n",
              "  'codigo': '8830-0012',\n",
              "  'n_grupos': 1,\n",
              "  'req_salon': 1},\n",
              " 'CEEM-0004': {'cursos': 'Electiva 1 \\nRSE ',\n",
              "  'codigo': 'CEEM-0004',\n",
              "  'n_grupos': 1,\n",
              "  'req_salon': 1},\n",
              " '5555-0010': {'cursos': 'Ética Profesional',\n",
              "  'codigo': '5555-0010',\n",
              "  'n_grupos': 1,\n",
              "  'req_salon': 1},\n",
              " '9937-0014': {'cursos': 'Investigación Operativa                  ',\n",
              "  'codigo': '9937-0014',\n",
              "  'n_grupos': 1,\n",
              "  'req_salon': 1},\n",
              " '8821-0010': {'cursos': 'Gerencia de Proyectos                  Pre. 6069-0127',\n",
              "  'codigo': '8821-0010',\n",
              "  'n_grupos': 1,\n",
              "  'req_salon': 1},\n",
              " '8827-0120': {'cursos': 'Electiva 2 \\nExcel ingeniero  ',\n",
              "  'codigo': '8827-0120',\n",
              "  'n_grupos': 1,\n",
              "  'req_salon': 1},\n",
              " '6069-2060': {'cursos': 'Optativa del Ciclo Integración I  \\nGerencia Contemporanea ',\n",
              "  'codigo': '6069-2060',\n",
              "  'n_grupos': 1,\n",
              "  'req_salon': 1},\n",
              " 'NaN': {'cursos': 'Electiva CFH',\n",
              "  'codigo': nan,\n",
              "  'n_grupos': 2,\n",
              "  'req_salon': 1},\n",
              " '9937-0018': {'cursos': 'Simulación                    ',\n",
              "  'codigo': '9937-0018',\n",
              "  'n_grupos': 1,\n",
              "  'req_salon': 1},\n",
              " '6069-0012': {'cursos': 'Gestión de la Tecnología y la Innovación   ',\n",
              "  'codigo': '6069-0012',\n",
              "  'n_grupos': 1,\n",
              "  'req_salon': 1},\n",
              " '5566-0009': {'cursos': 'Contexo Profesional',\n",
              "  'codigo': '5566-0009',\n",
              "  'n_grupos': 1,\n",
              "  'req_salon': 1},\n",
              " '6069-0078': {'cursos': 'Optativa del Ciclo Profesional I \\nGestion x Procesos ',\n",
              "  'codigo': '6069-0078',\n",
              "  'n_grupos': 1,\n",
              "  'req_salon': 1},\n",
              " '6069-0154': {'cursos': 'Optativa del Ciclo Integración II\\nProspectiva estrategica ',\n",
              "  'codigo': '6069-0154',\n",
              "  'n_grupos': 1,\n",
              "  'req_salon': 1},\n",
              " '8821-0002': {'cursos': 'Optativa del Ciclo Integración III\\nHtas toma Desiciones  ',\n",
              "  'codigo': '8821-0002',\n",
              "  'n_grupos': 1,\n",
              "  'req_salon': 1},\n",
              " '6069-0075': {'cursos': 'Optativa del Ciclo Profesional II \\nAuditoria y Diagnos organizacional ',\n",
              "  'codigo': '6069-0075',\n",
              "  'n_grupos': 1,\n",
              "  'req_salon': 1}}"
            ]
          },
          "execution_count": 14,
          "metadata": {},
          "output_type": "execute_result"
        }
      ],
      "source": [
        "grupo_requerimiento"
      ]
    },
    {
      "cell_type": "code",
      "execution_count": null,
      "metadata": {
        "id": "vE9SxdqSLhV1"
      },
      "outputs": [],
      "source": [
        "L={str(i):[str(grupo_requerimiento[i]['codigo'])+'-'+str(j) for j in range(grupo_requerimiento[i]['n_grupos'])] for i in grupo_requerimiento.keys()}   \n",
        "curso_base={str(i)+\"-\"+str(j):str(i)  for i in grupo_requerimiento.keys() for j in range(grupo_requerimiento[i]['n_grupos']) }"
      ]
    },
    {
      "cell_type": "code",
      "execution_count": null,
      "metadata": {
        "id": "5aHLRnXCLhV1",
        "outputId": "db88fbc8-d508-44c7-e242-0c6c7a272a57"
      },
      "outputs": [
        {
          "data": {
            "text/plain": [
              "{'2027-0059-0': '2027-0059',\n",
              " '8830-0001-0': '8830-0001',\n",
              " '9937-0021-0': '9937-0021',\n",
              " '9937-0062-0': '9937-0062',\n",
              " '9937-0062-1': '9937-0062',\n",
              " '6611-0004-0': '6611-0004',\n",
              " '6611-0004-1': '6611-0004',\n",
              " '9937-0073-0': '9937-0073',\n",
              " '9935-0031-0': '9935-0031',\n",
              " '9937-0072-0': '9937-0072',\n",
              " '9939-0018-0': '9939-0018',\n",
              " '5559-0014-0': '5559-0014',\n",
              " '8831-0028-0': '8831-0028',\n",
              " '9937-0074-0': '9937-0074',\n",
              " '9935-0032-0': '9935-0032',\n",
              " '9935-0033-0': '9935-0033',\n",
              " '8830-0005-0': '8830-0005',\n",
              " '9937-0011-0': '9937-0011',\n",
              " '8830-0004-0': '8830-0004',\n",
              " '9935-0012-0': '9935-0012',\n",
              " '6069-0014-0': '6069-0014',\n",
              " '9937-0076-0': '9937-0076',\n",
              " '5569-0011-0': '5569-0011',\n",
              " '5569-0011-1': '5569-0011',\n",
              " '5569-0011-2': '5569-0011',\n",
              " '8830-0010-0': '8830-0010',\n",
              " '9937-0012-0': '9937-0012',\n",
              " '6612-0001-0': '6612-0001',\n",
              " '8828-0028-0': '8828-0028',\n",
              " '8830-0008-0': '8830-0008',\n",
              " '8833-021-0': '8833-021',\n",
              " '5562-0013-0': '5562-0013',\n",
              " '5562-0013-1': '5562-0013',\n",
              " '8830-0006-0': '8830-0006',\n",
              " '9937-0013-0': '9937-0013',\n",
              " '6611-0088-0': '6611-0088',\n",
              " '6069-0011-0': '6069-0011',\n",
              " '8827-0008-0': '8827-0008',\n",
              " '8830-0007-0': '8830-0007',\n",
              " '8830-0009-0': '8830-0009',\n",
              " '6069-0018-0': '6069-0018',\n",
              " '6069-0127-0': '6069-0127',\n",
              " '8830-0012-0': '8830-0012',\n",
              " 'CEEM-0004-0': 'CEEM-0004',\n",
              " '5555-0010-0': '5555-0010',\n",
              " '9937-0014-0': '9937-0014',\n",
              " '8821-0010-0': '8821-0010',\n",
              " '8827-0120-0': '8827-0120',\n",
              " '6069-2060-0': '6069-2060',\n",
              " 'NaN-0': 'NaN',\n",
              " 'NaN-1': 'NaN',\n",
              " '9937-0018-0': '9937-0018',\n",
              " '6069-0012-0': '6069-0012',\n",
              " '5566-0009-0': '5566-0009',\n",
              " '6069-0078-0': '6069-0078',\n",
              " '6069-0154-0': '6069-0154',\n",
              " '8821-0002-0': '8821-0002',\n",
              " '6069-0075-0': '6069-0075'}"
            ]
          },
          "execution_count": 20,
          "metadata": {},
          "output_type": "execute_result"
        }
      ],
      "source": [
        "curso_base"
      ]
    },
    {
      "cell_type": "code",
      "execution_count": null,
      "metadata": {
        "id": "M6qT2FQDLhV1"
      },
      "outputs": [],
      "source": [
        "L={str(i):[str(i)+\"-\"+str(j)  for j in range(1,oferta_x_curso[i]+1)] for i in dict_courses.keys()}\n",
        "grupos=[]\n",
        "for l in L.values():\n",
        "    for ele in l:\n",
        "        grupos.append(ele)\n",
        "\n",
        "curso_base={str(i)+\"-\"+str(j):str(i)  for i in dict_courses.keys() for j in range(1,oferta_x_curso[i]+1) }"
      ]
    },
    {
      "cell_type": "markdown",
      "metadata": {
        "id": "ZqNERr2BLhV2"
      },
      "source": [
        "# Modelo"
      ]
    },
    {
      "cell_type": "code",
      "execution_count": null,
      "metadata": {
        "id": "G2k7d7mwLhV2"
      },
      "outputs": [],
      "source": []
    }
  ],
  "metadata": {
    "kernelspec": {
      "display_name": "apricot-env",
      "language": "python",
      "name": "python3"
    },
    "language_info": {
      "codemirror_mode": {
        "name": "ipython",
        "version": 3
      },
      "file_extension": ".py",
      "mimetype": "text/x-python",
      "name": "python",
      "nbconvert_exporter": "python",
      "pygments_lexer": "ipython3",
      "version": "3.9.12"
    },
    "orig_nbformat": 4,
    "colab": {
      "provenance": [],
      "include_colab_link": true
    }
  },
  "nbformat": 4,
  "nbformat_minor": 0
}