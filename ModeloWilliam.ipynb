{
 "cells": [
  {
   "cell_type": "code",
   "execution_count": 7,
   "metadata": {},
   "outputs": [],
   "source": [
    "import pandas as pd\n",
    "import numpy as np"
   ]
  },
  {
   "cell_type": "code",
   "execution_count": 9,
   "metadata": {},
   "outputs": [],
   "source": [
    "df=pd.read_csv(\"Facultad_ingenieria.csv\")\n",
    "df.columns\n",
    "df[\"ASIGNATURA \"].fillna(method=\"ffill\",inplace=True)\n",
    "df.groupby(\"ASIGNATURA \").sum().to_clipboard()\n",
    "df_melt=df.melt(id_vars=[\"ASIGNATURA \"],var_name=\"Docente\")\n",
    "df_melt=df_melt[(df_melt[\"value\"]>0) & (df_melt.Docente!=\"Unnamed: 24\")]"
   ]
  },
  {
   "cell_type": "code",
   "execution_count": 10,
   "metadata": {},
   "outputs": [],
   "source": [
    "set(df_melt['ASIGNATURA '])\n",
    "df_melt[\"code\"]=df_melt[\"ASIGNATURA \"].apply(lambda x: x[:9])\n",
    "\n",
    "# Creamos un diccionario con la relación código asignatura - nombre asignatura\n",
    "dict_courses=df_melt.set_index(\"code\").to_dict()[\"ASIGNATURA \"]\n"
   ]
  },
  {
   "cell_type": "code",
   "execution_count": 17,
   "metadata": {},
   "outputs": [],
   "source": [
    "oferta_x_curso={i:np.random.choice([1,2],p=[0.9,0.1]) for i in set(df_melt[\"code\"])}"
   ]
  },
  {
   "cell_type": "code",
   "execution_count": 34,
   "metadata": {},
   "outputs": [],
   "source": [
    "L={str(i):[str(i)+\"-\"+str(j)  for j in range(1,oferta_x_curso[i]+1)] for i in dict_courses.keys()}\n",
    "grupos=[]\n",
    "for l in L.values():\n",
    "    for ele in l:\n",
    "        grupos.append(ele)\n",
    "\n",
    "curso_base={str(i)+\"-\"+str(j):str(i)  for i in dict_courses.keys() for j in range(1,oferta_x_curso[i]+1) }\n"
   ]
  },
  {
   "cell_type": "code",
   "execution_count": 28,
   "metadata": {},
   "outputs": [],
   "source": [
    "horas_grupo={i:3 for i in grupos}\n",
    "max_horas_prof={i:np.random.choice([8,16,20],p=[0.25,0.5,0.25]) for i in set(df_melt[\"Docente\"])}"
   ]
  },
  {
   "cell_type": "code",
   "execution_count": 35,
   "metadata": {},
   "outputs": [],
   "source": [
    "dict_profs=df_melt.groupby(\"Docente\").agg(list)[[\"code\"]].reset_index()\n",
    "dict_profs=dict_profs.set_index(\"Docente\").to_dict()[\"code\"]\n"
   ]
  },
  {
   "cell_type": "code",
   "execution_count": 36,
   "metadata": {},
   "outputs": [],
   "source": [
    "df_melt[\"id-tuple\"]=df_melt.apply(lambda x: (x[\"Docente\"],x[\"code\"]),axis=1)\n",
    "theta=df_melt.set_index(\"id-tuple\").to_dict()[\"value\"]\n"
   ]
  },
  {
   "cell_type": "code",
   "execution_count": 37,
   "metadata": {},
   "outputs": [],
   "source": [
    "num_grupos={1:1,2:3}"
   ]
  },
  {
   "cell_type": "code",
   "execution_count": 47,
   "metadata": {},
   "outputs": [],
   "source": [
    "max_cursos=6\n",
    "I=set(dict_profs.keys())\n",
    "J=set(grupos)   \n",
    "K=set(dict_courses.keys())\n",
    "C=range(0,max_cursos+1)\n",
    "\n",
    "tuplas=[(i,j) for i in I for j in J if (i,curso_base[j]) in theta.keys()]\n",
    "prof_curso=[e for e in theta.keys()  ]\n",
    "# posibles combinaciones profeso y cantidad de cursos\n",
    "IC=[(i,c) for i in I for c in C]"
   ]
  },
  {
   "cell_type": "code",
   "execution_count": 57,
   "metadata": {},
   "outputs": [
    {
     "name": "stderr",
     "output_type": "stream",
     "text": [
      "c:\\Users\\fanca\\.conda\\envs\\an_env\\lib\\site-packages\\pulp\\pulp.py:1352: UserWarning: Spaces are not permitted in the name. Converted to '_'\n",
      "  warnings.warn(\"Spaces are not permitted in the name. Converted to '_'\")\n"
     ]
    },
    {
     "data": {
      "text/plain": [
       "1"
      ]
     },
     "execution_count": 57,
     "metadata": {},
     "output_type": "execute_result"
    }
   ],
   "source": [
    "\n",
    "import pulp as plp\n",
    "\n",
    "# Create the 'prob' variable to contain the problem data\n",
    "prob = plp.LpProblem(\"Modelo William\", plp.LpMaximize)\n",
    "\n",
    "# Create problem variables from dictionary\n",
    "# Docente i es asignado a grupo j (binaria)\n",
    "x=plp.LpVariable.dicts(\"x\",tuplas,0,1,plp.LpBinary)\n",
    "\n",
    "# Docente i es asignado a c cursos diferentes\n",
    "N=plp.LpVariable.dicts(\"N\",IC,0,1,plp.LpBinary)\n",
    "\n",
    "# Un profesor es asignado a un curso\n",
    "z=plp.LpVariable.dicts(\"z\",theta.keys(),0,1,plp.LpBinary)\n",
    "\n",
    "# e=(i,j) representa la tupla\n",
    "prob+=plp.lpSum([x[(i,j)]*theta[i,curso_base[j]] for (i,j) in tuplas])\n",
    "\n",
    "# Cada curso tiene un docente asignado\n",
    "for j in J:\n",
    "    prob+=plp.lpSum([x[i,j] for i in I if (i,j) in tuplas])==1\n",
    "\n",
    "# Contar cuantos cursos diferentes da un profesor\n",
    "for i in I:\n",
    "    prob+=plp.lpSum([z[(i,k)] for k in K if (i,k) in theta.keys()])==plp.lpSum([l*N[i,l] for l in C])\n",
    "\n",
    "# el profesor tiene una cantidad de cursos asignada\n",
    "for i in I:\n",
    "    prob+=plp.lpSum([N[i,l] for l in C])==1\n",
    "\n",
    "# el profesor no puede dar mas cursos de los que tiene asignados\n",
    "for i in I:\n",
    "    for k in K:\n",
    "        if (i,k) in theta.keys():\n",
    "            plp.lpSum([x[(i,j)] for j in L[k] if (i,j) in tuplas])<=z[(i,k)]*len(L[k])\n",
    "\n",
    "    \n",
    "prob.solve()\n"
   ]
  },
  {
   "cell_type": "code",
   "execution_count": 53,
   "metadata": {},
   "outputs": [
    {
     "data": {
      "text/plain": [
       "{'8830-0005': ['8830-0005-1'],\n",
       " '8830-0004': ['8830-0004-1'],\n",
       " '8830-0008': ['8830-0008-1'],\n",
       " '8830-0006': ['8830-0006-1'],\n",
       " '8830-0007': ['8830-0007-1'],\n",
       " '9937-0002': ['9937-0002-1'],\n",
       " '8827-0008': ['8827-0008-1'],\n",
       " 'Electiva ': ['Electiva -1'],\n",
       " '6069-0012': ['6069-0012-1'],\n",
       " '9937-0001': ['9937-0001-1'],\n",
       " '9937-0003': ['9937-0003-1'],\n",
       " '9937-0005': ['9937-0005-1'],\n",
       " '9937-0011': ['9937-0011-1'],\n",
       " '9937-0007': ['9937-0007-1'],\n",
       " '9937-0012': ['9937-0012-1', '9937-0012-2'],\n",
       " '8830-0001': ['8830-0001-1'],\n",
       " '8830-0010': ['8830-0010-1'],\n",
       " '8833-0021': ['8833-0021-1'],\n",
       " '8830-0012': ['8830-0012-1'],\n",
       " '5555- 001': ['5555- 001-1'],\n",
       " 'Optativa ': ['Optativa -1'],\n",
       " '5566-0009': ['5566-0009-1'],\n",
       " '6612-0001': ['6612-0001-1'],\n",
       " '6069-0011': ['6069-0011-1'],\n",
       " '9937-0013': ['9937-0013-1'],\n",
       " '6069-0127': ['6069-0127-1'],\n",
       " '8821-0010': ['8821-0010-1'],\n",
       " '9935-0004': ['9935-0004-1'],\n",
       " '8828-0028': ['8828-0028-1'],\n",
       " '8830-0009': ['8830-0009-1'],\n",
       " '9937-0014': ['9937-0014-1'],\n",
       " '8830-0011': ['8830-0011-1'],\n",
       " '9937-0018': ['9937-0018-1'],\n",
       " 'Optativas': ['Optativas-1'],\n",
       " '9937-0004': ['9937-0004-1'],\n",
       " '6611-0088': ['6611-0088-1'],\n",
       " '6069-0014': ['6069-0014-1'],\n",
       " '6069-0018': ['6069-0018-1'],\n",
       " '9935-0003': ['9935-0003-1'],\n",
       " '9939-0004': ['9939-0004-1'],\n",
       " '9935-0011': ['9935-0011-1'],\n",
       " '9935-0012': ['9935-0012-1'],\n",
       " '5559-0014': ['5559-0014-1'],\n",
       " '8831-0028': ['8831-0028-1', '8831-0028-2'],\n",
       " '2027-0059': ['2027-0059-1'],\n",
       " '6611-0004': ['6611-0004-1']}"
      ]
     },
     "execution_count": 53,
     "metadata": {},
     "output_type": "execute_result"
    }
   ],
   "source": [
    "L"
   ]
  }
 ],
 "metadata": {
  "kernelspec": {
   "display_name": "Python 3.9.12 ('an_env')",
   "language": "python",
   "name": "python3"
  },
  "language_info": {
   "codemirror_mode": {
    "name": "ipython",
    "version": 3
   },
   "file_extension": ".py",
   "mimetype": "text/x-python",
   "name": "python",
   "nbconvert_exporter": "python",
   "pygments_lexer": "ipython3",
   "version": "3.9.12"
  },
  "orig_nbformat": 4,
  "vscode": {
   "interpreter": {
    "hash": "1cb209c05957251103549ad48aa91d519e77419e42877c5104bcb6170bd2fd74"
   }
  }
 },
 "nbformat": 4,
 "nbformat_minor": 2
}
