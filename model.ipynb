{
  "cells": [
    {
      "cell_type": "markdown",
      "metadata": {
        "id": "view-in-github",
        "colab_type": "text"
      },
      "source": [
        "<a href=\"https://colab.research.google.com/github/fancagi/timetabling_upb/blob/main/model.ipynb\" target=\"_parent\"><img src=\"https://colab.research.google.com/assets/colab-badge.svg\" alt=\"Open In Colab\"/></a>"
      ]
    },
    {
      "cell_type": "code",
      "execution_count": null,
      "metadata": {
        "id": "K0rBSCOX0cMv"
      },
      "outputs": [],
      "source": [
        "import pandas as pd\n",
        "import pulp as plp\n",
        "import json"
      ]
    },
    {
      "cell_type": "markdown",
      "metadata": {
        "id": "BQ76fvVn0cMw"
      },
      "source": [
        "# read data"
      ]
    },
    {
      "cell_type": "code",
      "execution_count": null,
      "metadata": {
        "id": "tD6AmxMS0cMx"
      },
      "outputs": [],
      "source": [
        "horas_curso=json.loads(open('data/horas_curso.json').read())\n",
        "idoneidad=json.loads(open('data/idoneidad.json').read())\n",
        "horas_reglamento=json.loads(open('data/horas_reglamento.json').read())\n",
        "labor_instruccional=json.loads(open('data/labor_instruccional.json').read())\n",
        "grupo_requerimiento=json.loads(open('data/grupo_requerimiento.json').read())\n",
        "ubicacion_semestral=json.loads(open('data/ubicacion_semestral.json').read())\n"
      ]
    },
    {
      "cell_type": "code",
      "execution_count": null,
      "metadata": {
        "id": "duzPYh_50cMy"
      },
      "outputs": [],
      "source": [
        "L={str(i):[str(grupo_requerimiento[i]['codigo'])+'-'+str(j) for j in range(grupo_requerimiento[i]['n_grupos'])] for i in grupo_requerimiento.keys()}   \n",
        "curso_base={str(i)+\"-\"+str(j):str(i)  for i in grupo_requerimiento.keys() for j in range(grupo_requerimiento[i]['n_grupos']) }\n",
        "\n"
      ]
    },
    {
      "cell_type": "code",
      "execution_count": null,
      "metadata": {
        "id": "D5CcGJS50cMy"
      },
      "outputs": [],
      "source": [
        "grupos=[]\n",
        "for l in L.values():\n",
        "    for ele in l:\n",
        "        grupos.append(ele)"
      ]
    },
    {
      "cell_type": "markdown",
      "metadata": {
        "id": "koEkGWgx0cMy"
      },
      "source": [
        "# Modelo"
      ]
    },
    {
      "cell_type": "code",
      "execution_count": null,
      "metadata": {
        "id": "dgGySRuQ0cMy"
      },
      "outputs": [],
      "source": [
        "# Conjuntos\n",
        "\n",
        "I=set(idoneidad.keys()) # Profesores\n",
        "J=set(grupos) # Grupos\n",
        "K=set(grupo_requerimiento.keys()) # Cursos\n",
        "# Conjunto auxiliar que sirve para enumerar la cantidad de cursos que un docente tiene asignados\n",
        "C=set(range(1,7)) # Semestres"
      ]
    },
    {
      "cell_type": "code",
      "execution_count": null,
      "metadata": {
        "id": "s1if32NE0cMz"
      },
      "outputs": [],
      "source": [
        "\"\"\"'Alvaro Jose Torres Penagos': {'docente': 'Alvaro Jose Torres Penagos',\n",
        "  'idoneidad': {'8830-0005': 2.0,\n",
        "   '8830-0004': 3.0,\n",
        "   '8830-0008': 2.0,\n",
        "   '8830-0006': 3.0,\n",
        "   '8830-0007': 3.0}},\"\"\"\n",
        "\n",
        "# combinaciones posibles de profesores ygrupo\n",
        "tuplas=[(i,j) for i in I for j in J if i in idoneidad.keys() and curso_base[j] in idoneidad[i]['idoneidad'] ]\n",
        "# subindices usados para denotar la carga asignada a un profesor\n",
        "doc_carga=[(i,c) for i in I for c in C]\n",
        "# tuplas profesor y curso\n",
        "prof_curso=[(i,j) for i in I for j in idoneidad[i]['idoneidad'].keys()]"
      ]
    },
    {
      "cell_type": "markdown",
      "metadata": {
        "id": "hJWOOEvR0cMz"
      },
      "source": [
        "# Modelo"
      ]
    },
    {
      "cell_type": "markdown",
      "metadata": {
        "id": "gUHpcvEj0cMz"
      },
      "source": [
        "## Declaración de variables"
      ]
    },
    {
      "cell_type": "code",
      "execution_count": null,
      "metadata": {
        "id": "8iwrQF7X0cM0",
        "outputId": "252a3c06-014a-48e6-9157-8df4a00ab1c2"
      },
      "outputs": [
        {
          "name": "stderr",
          "output_type": "stream",
          "text": [
            "/Users/user/opt/anaconda3/envs/apricot-env/lib/python3.9/site-packages/pulp/pulp.py:1352: UserWarning: Spaces are not permitted in the name. Converted to '_'\n",
            "  warnings.warn(\"Spaces are not permitted in the name. Converted to '_'\")\n"
          ]
        }
      ],
      "source": [
        "import pulp as plp\n",
        "\n",
        "# Create the 'prob' variable to contain the problem data\n",
        "prob = plp.LpProblem(\"Modelo William\", plp.LpMaximize)\n",
        "\n",
        "# Create problem variables from dictionary\n",
        "# Docente i es asignado a grupo j (binaria)\n",
        "x=plp.LpVariable.dicts(\"x\",tuplas,0,1,plp.LpBinary)\n",
        "\n",
        "# Docente i es asignado a c cursos diferentes\n",
        "N=plp.LpVariable.dicts(\"N\",doc_carga,0,1,plp.LpBinary)\n",
        "\n",
        "# Un profesor es asignado a un curso\n",
        "z=plp.LpVariable.dicts(\"z\",prof_curso,0,1,plp.LpBinary)\n",
        "\n"
      ]
    },
    {
      "cell_type": "markdown",
      "metadata": {
        "id": "uka08Yb-0cM1"
      },
      "source": [
        "## Funcion objetivo 1 \n",
        " maximizar la suma de la idoneidad de los profesores asignados a los diferentes grupos\n",
        "\n"
      ]
    },
    {
      "cell_type": "code",
      "execution_count": null,
      "metadata": {
        "id": "__AbFMM90cM1"
      },
      "outputs": [],
      "source": [
        "# e=(i,j) representa la tupla\n",
        "prob+=plp.lpSum([x[(i,j)]*idoneidad[i]['idoneidad'][curso_base[j]] for (i,j) in tuplas])"
      ]
    },
    {
      "cell_type": "markdown",
      "metadata": {
        "id": "qDocOoEt0cM2"
      },
      "source": [
        "### Restricciones"
      ]
    },
    {
      "cell_type": "code",
      "execution_count": null,
      "metadata": {
        "id": "FYlCHOwF0cM2",
        "outputId": "984b6b8f-b08d-4087-c218-a35e560431d8"
      },
      "outputs": [
        {
          "name": "stdout",
          "output_type": "stream",
          "text": [
            "8830-0007-0\n",
            "9935-0031-0\n",
            "9937-0062-0\n",
            "6612-0001-0\n",
            "6069-0011-0\n",
            "6069-0078-0\n",
            "9937-0012-0\n",
            "6069-0075-0\n",
            "5562-0013-1\n",
            "6611-0004-1\n",
            "8827-0120-0\n",
            "9937-0002-0\n",
            "9937-0011-0\n",
            "5559-0014-0\n",
            "6069-0127-0\n",
            "6069-0154-0\n",
            "8830-0006-0\n",
            "9937-0013-0\n",
            "9937-0072-0\n",
            "8830-0012-0\n",
            "8821-0002-0\n",
            "9937-0062-1\n",
            "5569-0011-1\n",
            "5566-0009-0\n",
            "9939-0018-0\n",
            "8828-0028-0\n",
            "CEEM-0004-0\n",
            "9937-0073-0\n",
            "9937-0076-0\n",
            "8821-0010-0\n",
            "6069-0018-0\n",
            "5569-0011-2\n",
            "8830-0009-0\n",
            "8830-0001-0\n",
            "2027-0059-0\n",
            "9935-0032-0\n",
            "8827-0008-0\n",
            "5562-0013-0\n",
            "6611-0088-0\n",
            "8833-021-0\n",
            "9937-0021-0\n",
            "8830-0010-0\n",
            "8830-0008-0\n",
            "6069-2060-0\n",
            "9937-0018-0\n",
            "8830-0005-0\n",
            "9937-0014-0\n",
            "5569-0011-0\n",
            "6069-0012-0\n",
            "6611-0004-0\n",
            "9935-0012-0\n",
            "6069-0014-0\n",
            "8830-0004-0\n",
            "9935-0033-0\n",
            "5555-0010-0\n",
            "8831-0028-0\n",
            "9937-0074-0\n",
            "Welcome to the CBC MILP Solver \n",
            "Version: 2.10.3 \n",
            "Build Date: Dec 15 2019 \n",
            "\n",
            "command line - /Users/user/opt/anaconda3/envs/apricot-env/lib/python3.9/site-packages/pulp/solverdir/cbc/osx/64/cbc /var/folders/xc/t5gbnt3n5sq5bkg65xw9f1g00000gn/T/3706564bc18040839e5e0c9b66482151-pulp.mps max timeMode elapsed branch printingOptions all solution /var/folders/xc/t5gbnt3n5sq5bkg65xw9f1g00000gn/T/3706564bc18040839e5e0c9b66482151-pulp.sol (default strategy 1)\n",
            "At line 2 NAME          MODEL\n",
            "At line 3 ROWS\n",
            "At line 62 COLUMNS\n",
            "At line 335 RHS\n",
            "At line 393 BOUNDS\n",
            "At line 462 ENDATA\n",
            "Problem MODEL has 57 rows, 68 columns and 68 elements\n",
            "Coin0008I MODEL read with 0 errors\n",
            "Option for timeMode changed from cpu to elapsed\n",
            "Problem is infeasible - 0.00 seconds\n",
            "Option for printingOptions changed from normal to all\n",
            "Total time (CPU seconds):       0.00   (Wallclock seconds):       0.01\n",
            "\n"
          ]
        },
        {
          "data": {
            "text/plain": [
              "Modelo_William:\n",
              "MAXIMIZE\n",
              "3.0*x_('Alvaro_Jose_Torres_Penagos',_'8830_0004_0') + 2.0*x_('Alvaro_Jose_Torres_Penagos',_'8830_0005_0') + 3.0*x_('Alvaro_Jose_Torres_Penagos',_'8830_0006_0') + 3.0*x_('Alvaro_Jose_Torres_Penagos',_'8830_0007_0') + 2.0*x_('Alvaro_Jose_Torres_Penagos',_'8830_0008_0') + 3.0*x_('Andres_Felipe_Hernandez_Giraldo',_'6069_0012_0') + 3.0*x_('Andres_Felipe_Hernandez_Giraldo',_'8827_0008_0') + 3.0*x_('Andres_Felipe_Hernandez_Giraldo',_'9937_0002_0') + 3.0*x_('Andres_Felipe_Parra_Perea',_'9937_0011_0') + 3.0*x_('Andres_Felipe_Parra_Perea',_'9937_0012_0') + 2.0*x_('Beatriz_Elena_Hernandez_Arias',_'5555_0010_0') + 3.0*x_('Beatriz_Elena_Hernandez_Arias',_'5566_0009_0') + 1.0*x_('Beatriz_Elena_Hernandez_Arias',_'8830_0001_0') + 3.0*x_('Beatriz_Elena_Hernandez_Arias',_'8830_0005_0') + 2.0*x_('Beatriz_Elena_Hernandez_Arias',_'8830_0010_0') + 3.0*x_('Beatriz_Elena_Hernandez_Arias',_'8830_0012_0') + 1.0*x_('Bryan_Salcedo',_'8830_0009_0') + 3.0*x_('Claudia_Orly_Escudero_Jimenez',_'5555_0010_0') + 2.0*x_('Claudia_Orly_Escudero_Jimenez',_'6069_0011_0') + 3.0*x_('Claudia_Orly_Escudero_Jimenez',_'6612_0001_0') + 2.0*x_('Claudia_Orly_Escudero_Jimenez',_'8830_0001_0') + 3.0*x_('Claudia_Orly_Escudero_Jimenez',_'8830_0010_0') + 2.0*x_('Claudia_Orly_Escudero_Jimenez',_'8830_0012_0') + 2.0*x_('Diego_lennis',_'5559_0014_0') + 2.0*x_('Edwin_Fernando_Restrepo_Salazar',_'6069_0127_0') + 2.0*x_('Edwin_Fernando_Restrepo_Salazar',_'8821_0010_0') + 3.0*x_('Edwin_Fernando_Restrepo_Salazar',_'9937_0013_0') + 2.0*x_('Edwin_Javier_Ortega_Zuñiga',_'6069_0012_0') + 3.0*x_('Edwin_Javier_Ortega_Zuñiga',_'6069_0127_0') + 3.0*x_('Edwin_Javier_Ortega_Zuñiga',_'8821_0010_0') + 2.0*x_('Edwin_Javier_Ortega_Zuñiga',_'8827_0008_0') + 2.0*x_('Edwin_Javier_Ortega_Zuñiga',_'8828_0028_0') + 2.0*x_('Jairo_Arboleda_Zuñiga',_'8830_0007_0') + 3.0*x_('Jairo_Arboleda_Zuñiga',_'8830_0008_0') + 3.0*x_('Jairo_Arboleda_Zuñiga',_'8830_0009_0') + 2.0*x_('Jairo_Arboleda_Zuñiga',_'9937_0013_0') + 2.0*x_('Jairo_Arboleda_Zuñiga',_'9937_0014_0') + 3.0*x_('Jairo_Arboleda_Zuñiga',_'9937_0018_0') + 3.0*x_('Jonny_Pantoja',_'9937_0014_0') + 1.0*x_('Marcelo_Aguilar',_'2027_0059_0') + 3.0*x_('Mariela_Galindo',_'6611_0088_0') + 2.0*x_('Mariela_Galindo',_'8830_0009_0') + 2.0*x_('Mariela_Galindo',_'9937_0018_0') + 3.0*x_('Marino_renjifo',_'6611_0004_0') + 3.0*x_('Marino_renjifo',_'6611_0004_1') + 2.0*x_('Oscar_Sanchez',_'6069_0014_0') + 3.0*x_('Pedro_Nel_Barbosa_Garcia',_'6069_0014_0') + 3.0*x_('Pedro_Nel_Barbosa_Garcia',_'6069_0018_0') + 2.0*x_('Pedro_Nel_Barbosa_Garcia',_'6611_0088_0') + 2.0*x_('Pedro_Nel_Barbosa_Garcia',_'6612_0001_0') + 3.0*x_('Ruben_Dario_Parra_Zuleta',_'6069_0011_0') + 3.0*x_('Ruben_Dario_Parra_Zuleta',_'8828_0028_0') + 3.0*x_('Ruben_Dario_Parra_Zuleta',_'9935_0012_0') + 1.0*x_('William_Andres_Alzate',_'5555_0010_0') + 3.0*x_('William_Andres_Alzate',_'5559_0014_0') + 2.0*x_('William_Andres_Alzate',_'5566_0009_0') + 3.0*x_('William_Andres_Alzate',_'8830_0001_0') + 2.0*x_('William_Andres_Alzate',_'8830_0004_0') + 3.0*x_('William_Andres_Alzate',_'8830_0005_0') + 2.0*x_('William_Andres_Alzate',_'8830_0006_0') + 3.0*x_('William_Andres_Alzate',_'8830_0008_0') + 1.0*x_('William_Andres_Alzate',_'8830_0010_0') + 2.0*x_('William_Andres_Alzate',_'8831_0028_0') + 1.0*x_('Yaqueline_Quiñones_Rodriguez',_'8830_0004_0') + 3.0*x_('Yaqueline_Quiñones_Rodriguez',_'8831_0028_0') + 2.0*x_('carlos_saldarriaga',_'6069_0018_0') + 2.0*x_('paola_salazar',_'6611_0004_0') + 2.0*x_('paola_salazar',_'6611_0004_1') + 0.0\n",
              "SUBJECT TO\n",
              "asignacion_curso_8830_0007_0: x_('Alvaro_Jose_Torres_Penagos',_'8830_0007_0')\n",
              " + x_('Jairo_Arboleda_Zuñiga',_'8830_0007_0') = 1\n",
              "\n",
              "asignacion_curso_9935_0031_0:0 = 1\n",
              "\n",
              "asignacion_curso_9937_0062_0:0 = 1\n",
              "\n",
              "asignacion_curso_6612_0001_0:\n",
              " x_('Claudia_Orly_Escudero_Jimenez',_'6612_0001_0')\n",
              " + x_('Pedro_Nel_Barbosa_Garcia',_'6612_0001_0') = 1\n",
              "\n",
              "asignacion_curso_6069_0011_0:\n",
              " x_('Claudia_Orly_Escudero_Jimenez',_'6069_0011_0')\n",
              " + x_('Ruben_Dario_Parra_Zuleta',_'6069_0011_0') = 1\n",
              "\n",
              "asignacion_curso_6069_0078_0:0 = 1\n",
              "\n",
              "asignacion_curso_9937_0012_0: x_('Andres_Felipe_Parra_Perea',_'9937_0012_0')\n",
              " = 1\n",
              "\n",
              "asignacion_curso_6069_0075_0:0 = 1\n",
              "\n",
              "asignacion_curso_5562_0013_1:0 = 1\n",
              "\n",
              "asignacion_curso_6611_0004_1: x_('Marino_renjifo',_'6611_0004_1')\n",
              " + x_('paola_salazar',_'6611_0004_1') = 1\n",
              "\n",
              "asignacion_curso_8827_0120_0:0 = 1\n",
              "\n",
              "asignacion_curso_9937_0002_0:\n",
              " x_('Andres_Felipe_Hernandez_Giraldo',_'9937_0002_0') = 1\n",
              "\n",
              "asignacion_curso_9937_0011_0: x_('Andres_Felipe_Parra_Perea',_'9937_0011_0')\n",
              " = 1\n",
              "\n",
              "asignacion_curso_5559_0014_0: x_('Diego_lennis',_'5559_0014_0')\n",
              " + x_('William_Andres_Alzate',_'5559_0014_0') = 1\n",
              "\n",
              "asignacion_curso_6069_0127_0:\n",
              " x_('Edwin_Fernando_Restrepo_Salazar',_'6069_0127_0')\n",
              " + x_('Edwin_Javier_Ortega_Zuñiga',_'6069_0127_0') = 1\n",
              "\n",
              "asignacion_curso_6069_0154_0:0 = 1\n",
              "\n",
              "asignacion_curso_8830_0006_0: x_('Alvaro_Jose_Torres_Penagos',_'8830_0006_0')\n",
              " + x_('William_Andres_Alzate',_'8830_0006_0') = 1\n",
              "\n",
              "asignacion_curso_9937_0013_0:\n",
              " x_('Edwin_Fernando_Restrepo_Salazar',_'9937_0013_0')\n",
              " + x_('Jairo_Arboleda_Zuñiga',_'9937_0013_0') = 1\n",
              "\n",
              "asignacion_curso_9937_0072_0:0 = 1\n",
              "\n",
              "asignacion_curso_8830_0012_0:\n",
              " x_('Beatriz_Elena_Hernandez_Arias',_'8830_0012_0')\n",
              " + x_('Claudia_Orly_Escudero_Jimenez',_'8830_0012_0') = 1\n",
              "\n",
              "asignacion_curso_8821_0002_0:0 = 1\n",
              "\n",
              "asignacion_curso_9937_0062_1:0 = 1\n",
              "\n",
              "asignacion_curso_5569_0011_1:0 = 1\n",
              "\n",
              "asignacion_curso_5566_0009_0:\n",
              " x_('Beatriz_Elena_Hernandez_Arias',_'5566_0009_0')\n",
              " + x_('William_Andres_Alzate',_'5566_0009_0') = 1\n",
              "\n",
              "asignacion_curso_9939_0018_0:0 = 1\n",
              "\n",
              "asignacion_curso_8828_0028_0: x_('Edwin_Javier_Ortega_Zuñiga',_'8828_0028_0')\n",
              " + x_('Ruben_Dario_Parra_Zuleta',_'8828_0028_0') = 1\n",
              "\n",
              "asignacion_curso_CEEM_0004_0:0 = 1\n",
              "\n",
              "asignacion_curso_9937_0073_0:0 = 1\n",
              "\n",
              "asignacion_curso_9937_0076_0:0 = 1\n",
              "\n",
              "asignacion_curso_8821_0010_0:\n",
              " x_('Edwin_Fernando_Restrepo_Salazar',_'8821_0010_0')\n",
              " + x_('Edwin_Javier_Ortega_Zuñiga',_'8821_0010_0') = 1\n",
              "\n",
              "asignacion_curso_6069_0018_0: x_('Pedro_Nel_Barbosa_Garcia',_'6069_0018_0')\n",
              " + x_('carlos_saldarriaga',_'6069_0018_0') = 1\n",
              "\n",
              "asignacion_curso_5569_0011_2:0 = 1\n",
              "\n",
              "asignacion_curso_8830_0009_0: x_('Bryan_Salcedo',_'8830_0009_0')\n",
              " + x_('Jairo_Arboleda_Zuñiga',_'8830_0009_0')\n",
              " + x_('Mariela_Galindo',_'8830_0009_0') = 1\n",
              "\n",
              "asignacion_curso_8830_0001_0:\n",
              " x_('Beatriz_Elena_Hernandez_Arias',_'8830_0001_0')\n",
              " + x_('Claudia_Orly_Escudero_Jimenez',_'8830_0001_0')\n",
              " + x_('William_Andres_Alzate',_'8830_0001_0') = 1\n",
              "\n",
              "asignacion_curso_2027_0059_0: x_('Marcelo_Aguilar',_'2027_0059_0') = 1\n",
              "\n",
              "asignacion_curso_9935_0032_0:0 = 1\n",
              "\n",
              "asignacion_curso_8827_0008_0:\n",
              " x_('Andres_Felipe_Hernandez_Giraldo',_'8827_0008_0')\n",
              " + x_('Edwin_Javier_Ortega_Zuñiga',_'8827_0008_0') = 1\n",
              "\n",
              "asignacion_curso_5562_0013_0:0 = 1\n",
              "\n",
              "asignacion_curso_6611_0088_0: x_('Mariela_Galindo',_'6611_0088_0')\n",
              " + x_('Pedro_Nel_Barbosa_Garcia',_'6611_0088_0') = 1\n",
              "\n",
              "asignacion_curso_8833_021_0:0 = 1\n",
              "\n",
              "asignacion_curso_9937_0021_0:0 = 1\n",
              "\n",
              "asignacion_curso_8830_0010_0:\n",
              " x_('Beatriz_Elena_Hernandez_Arias',_'8830_0010_0')\n",
              " + x_('Claudia_Orly_Escudero_Jimenez',_'8830_0010_0')\n",
              " + x_('William_Andres_Alzate',_'8830_0010_0') = 1\n",
              "\n",
              "asignacion_curso_8830_0008_0: x_('Alvaro_Jose_Torres_Penagos',_'8830_0008_0')\n",
              " + x_('Jairo_Arboleda_Zuñiga',_'8830_0008_0')\n",
              " + x_('William_Andres_Alzate',_'8830_0008_0') = 1\n",
              "\n",
              "asignacion_curso_6069_2060_0:0 = 1\n",
              "\n",
              "asignacion_curso_9937_0018_0: x_('Jairo_Arboleda_Zuñiga',_'9937_0018_0')\n",
              " + x_('Mariela_Galindo',_'9937_0018_0') = 1\n",
              "\n",
              "asignacion_curso_8830_0005_0: x_('Alvaro_Jose_Torres_Penagos',_'8830_0005_0')\n",
              " + x_('Beatriz_Elena_Hernandez_Arias',_'8830_0005_0')\n",
              " + x_('William_Andres_Alzate',_'8830_0005_0') = 1\n",
              "\n",
              "asignacion_curso_9937_0014_0: x_('Jairo_Arboleda_Zuñiga',_'9937_0014_0')\n",
              " + x_('Jonny_Pantoja',_'9937_0014_0') = 1\n",
              "\n",
              "asignacion_curso_5569_0011_0:0 = 1\n",
              "\n",
              "asignacion_curso_6069_0012_0:\n",
              " x_('Andres_Felipe_Hernandez_Giraldo',_'6069_0012_0')\n",
              " + x_('Edwin_Javier_Ortega_Zuñiga',_'6069_0012_0') = 1\n",
              "\n",
              "asignacion_curso_6611_0004_0: x_('Marino_renjifo',_'6611_0004_0')\n",
              " + x_('paola_salazar',_'6611_0004_0') = 1\n",
              "\n",
              "asignacion_curso_9935_0012_0: x_('Ruben_Dario_Parra_Zuleta',_'9935_0012_0')\n",
              " = 1\n",
              "\n",
              "asignacion_curso_6069_0014_0: x_('Oscar_Sanchez',_'6069_0014_0')\n",
              " + x_('Pedro_Nel_Barbosa_Garcia',_'6069_0014_0') = 1\n",
              "\n",
              "asignacion_curso_8830_0004_0: x_('Alvaro_Jose_Torres_Penagos',_'8830_0004_0')\n",
              " + x_('William_Andres_Alzate',_'8830_0004_0')\n",
              " + x_('Yaqueline_Quiñones_Rodriguez',_'8830_0004_0') = 1\n",
              "\n",
              "asignacion_curso_9935_0033_0:0 = 1\n",
              "\n",
              "asignacion_curso_5555_0010_0:\n",
              " x_('Beatriz_Elena_Hernandez_Arias',_'5555_0010_0')\n",
              " + x_('Claudia_Orly_Escudero_Jimenez',_'5555_0010_0')\n",
              " + x_('William_Andres_Alzate',_'5555_0010_0') = 1\n",
              "\n",
              "asignacion_curso_8831_0028_0: x_('William_Andres_Alzate',_'8831_0028_0')\n",
              " + x_('Yaqueline_Quiñones_Rodriguez',_'8831_0028_0') = 1\n",
              "\n",
              "asignacion_curso_9937_0074_0:0 = 1\n",
              "\n",
              "VARIABLES\n",
              "0 <= x_('Alvaro_Jose_Torres_Penagos',_'8830_0004_0') <= 1 Integer\n",
              "0 <= x_('Alvaro_Jose_Torres_Penagos',_'8830_0005_0') <= 1 Integer\n",
              "0 <= x_('Alvaro_Jose_Torres_Penagos',_'8830_0006_0') <= 1 Integer\n",
              "0 <= x_('Alvaro_Jose_Torres_Penagos',_'8830_0007_0') <= 1 Integer\n",
              "0 <= x_('Alvaro_Jose_Torres_Penagos',_'8830_0008_0') <= 1 Integer\n",
              "0 <= x_('Andres_Felipe_Hernandez_Giraldo',_'6069_0012_0') <= 1 Integer\n",
              "0 <= x_('Andres_Felipe_Hernandez_Giraldo',_'8827_0008_0') <= 1 Integer\n",
              "0 <= x_('Andres_Felipe_Hernandez_Giraldo',_'9937_0002_0') <= 1 Integer\n",
              "0 <= x_('Andres_Felipe_Parra_Perea',_'9937_0011_0') <= 1 Integer\n",
              "0 <= x_('Andres_Felipe_Parra_Perea',_'9937_0012_0') <= 1 Integer\n",
              "0 <= x_('Beatriz_Elena_Hernandez_Arias',_'5555_0010_0') <= 1 Integer\n",
              "0 <= x_('Beatriz_Elena_Hernandez_Arias',_'5566_0009_0') <= 1 Integer\n",
              "0 <= x_('Beatriz_Elena_Hernandez_Arias',_'8830_0001_0') <= 1 Integer\n",
              "0 <= x_('Beatriz_Elena_Hernandez_Arias',_'8830_0005_0') <= 1 Integer\n",
              "0 <= x_('Beatriz_Elena_Hernandez_Arias',_'8830_0010_0') <= 1 Integer\n",
              "0 <= x_('Beatriz_Elena_Hernandez_Arias',_'8830_0012_0') <= 1 Integer\n",
              "0 <= x_('Bryan_Salcedo',_'8830_0009_0') <= 1 Integer\n",
              "0 <= x_('Claudia_Orly_Escudero_Jimenez',_'5555_0010_0') <= 1 Integer\n",
              "0 <= x_('Claudia_Orly_Escudero_Jimenez',_'6069_0011_0') <= 1 Integer\n",
              "0 <= x_('Claudia_Orly_Escudero_Jimenez',_'6612_0001_0') <= 1 Integer\n",
              "0 <= x_('Claudia_Orly_Escudero_Jimenez',_'8830_0001_0') <= 1 Integer\n",
              "0 <= x_('Claudia_Orly_Escudero_Jimenez',_'8830_0010_0') <= 1 Integer\n",
              "0 <= x_('Claudia_Orly_Escudero_Jimenez',_'8830_0012_0') <= 1 Integer\n",
              "0 <= x_('Diego_lennis',_'5559_0014_0') <= 1 Integer\n",
              "0 <= x_('Edwin_Fernando_Restrepo_Salazar',_'6069_0127_0') <= 1 Integer\n",
              "0 <= x_('Edwin_Fernando_Restrepo_Salazar',_'8821_0010_0') <= 1 Integer\n",
              "0 <= x_('Edwin_Fernando_Restrepo_Salazar',_'9937_0013_0') <= 1 Integer\n",
              "0 <= x_('Edwin_Javier_Ortega_Zuñiga',_'6069_0012_0') <= 1 Integer\n",
              "0 <= x_('Edwin_Javier_Ortega_Zuñiga',_'6069_0127_0') <= 1 Integer\n",
              "0 <= x_('Edwin_Javier_Ortega_Zuñiga',_'8821_0010_0') <= 1 Integer\n",
              "0 <= x_('Edwin_Javier_Ortega_Zuñiga',_'8827_0008_0') <= 1 Integer\n",
              "0 <= x_('Edwin_Javier_Ortega_Zuñiga',_'8828_0028_0') <= 1 Integer\n",
              "0 <= x_('Jairo_Arboleda_Zuñiga',_'8830_0007_0') <= 1 Integer\n",
              "0 <= x_('Jairo_Arboleda_Zuñiga',_'8830_0008_0') <= 1 Integer\n",
              "0 <= x_('Jairo_Arboleda_Zuñiga',_'8830_0009_0') <= 1 Integer\n",
              "0 <= x_('Jairo_Arboleda_Zuñiga',_'9937_0013_0') <= 1 Integer\n",
              "0 <= x_('Jairo_Arboleda_Zuñiga',_'9937_0014_0') <= 1 Integer\n",
              "0 <= x_('Jairo_Arboleda_Zuñiga',_'9937_0018_0') <= 1 Integer\n",
              "0 <= x_('Jonny_Pantoja',_'9937_0014_0') <= 1 Integer\n",
              "0 <= x_('Marcelo_Aguilar',_'2027_0059_0') <= 1 Integer\n",
              "0 <= x_('Mariela_Galindo',_'6611_0088_0') <= 1 Integer\n",
              "0 <= x_('Mariela_Galindo',_'8830_0009_0') <= 1 Integer\n",
              "0 <= x_('Mariela_Galindo',_'9937_0018_0') <= 1 Integer\n",
              "0 <= x_('Marino_renjifo',_'6611_0004_0') <= 1 Integer\n",
              "0 <= x_('Marino_renjifo',_'6611_0004_1') <= 1 Integer\n",
              "0 <= x_('Oscar_Sanchez',_'6069_0014_0') <= 1 Integer\n",
              "0 <= x_('Pedro_Nel_Barbosa_Garcia',_'6069_0014_0') <= 1 Integer\n",
              "0 <= x_('Pedro_Nel_Barbosa_Garcia',_'6069_0018_0') <= 1 Integer\n",
              "0 <= x_('Pedro_Nel_Barbosa_Garcia',_'6611_0088_0') <= 1 Integer\n",
              "0 <= x_('Pedro_Nel_Barbosa_Garcia',_'6612_0001_0') <= 1 Integer\n",
              "0 <= x_('Ruben_Dario_Parra_Zuleta',_'6069_0011_0') <= 1 Integer\n",
              "0 <= x_('Ruben_Dario_Parra_Zuleta',_'8828_0028_0') <= 1 Integer\n",
              "0 <= x_('Ruben_Dario_Parra_Zuleta',_'9935_0012_0') <= 1 Integer\n",
              "0 <= x_('William_Andres_Alzate',_'5555_0010_0') <= 1 Integer\n",
              "0 <= x_('William_Andres_Alzate',_'5559_0014_0') <= 1 Integer\n",
              "0 <= x_('William_Andres_Alzate',_'5566_0009_0') <= 1 Integer\n",
              "0 <= x_('William_Andres_Alzate',_'8830_0001_0') <= 1 Integer\n",
              "0 <= x_('William_Andres_Alzate',_'8830_0004_0') <= 1 Integer\n",
              "0 <= x_('William_Andres_Alzate',_'8830_0005_0') <= 1 Integer\n",
              "0 <= x_('William_Andres_Alzate',_'8830_0006_0') <= 1 Integer\n",
              "0 <= x_('William_Andres_Alzate',_'8830_0008_0') <= 1 Integer\n",
              "0 <= x_('William_Andres_Alzate',_'8830_0010_0') <= 1 Integer\n",
              "0 <= x_('William_Andres_Alzate',_'8831_0028_0') <= 1 Integer\n",
              "0 <= x_('Yaqueline_Quiñones_Rodriguez',_'8830_0004_0') <= 1 Integer\n",
              "0 <= x_('Yaqueline_Quiñones_Rodriguez',_'8831_0028_0') <= 1 Integer\n",
              "0 <= x_('carlos_saldarriaga',_'6069_0018_0') <= 1 Integer\n",
              "0 <= x_('paola_salazar',_'6611_0004_0') <= 1 Integer\n",
              "0 <= x_('paola_salazar',_'6611_0004_1') <= 1 Integer"
            ]
          },
          "execution_count": 35,
          "metadata": {},
          "output_type": "execute_result"
        }
      ],
      "source": [
        "# restriccion 1\n",
        "\n",
        "# Cada curso tiene un docente asignado\n",
        "for j in J:\n",
        "    print(j)\n",
        "    prob+=plp.lpSum([x[i,j] for i in I if (i,j) in tuplas])==1,\"asignacion curso %s\"%j\n",
        "\n",
        "prob.solve()\n",
        "prob"
      ]
    },
    {
      "cell_type": "code",
      "execution_count": null,
      "metadata": {
        "id": "66pPg37r0cM2"
      },
      "outputs": [],
      "source": [
        "# Contar cuantos cursos diferentes da un profesor\n",
        "for i in I:\n",
        "    prob+=plp.lpSum([z[(i,k)] for k in K if (i,k) in prof_curso])==plp.lpSum([l*N[i,l] for l in C])\n",
        "# el profesor tiene una cantidad de cursos asignada\n",
        "for i in I:\n",
        "    prob+=plp.lpSum([N[i,l] for l in C])==1\n",
        "\n",
        "# el profesor no puede dar mas cursos de los que tiene asignados\n",
        "for i in I:\n",
        "    for k in K:\n",
        "        if (i,k) in prof_curso:\n",
        "            plp.lpSum([x[(i,j)] for j in L[k] if (i,j) in tuplas])<=z[(i,k)]*len(L[k])"
      ]
    },
    {
      "cell_type": "code",
      "execution_count": null,
      "metadata": {
        "id": "KaHCd_jA0cM2",
        "outputId": "2de33f0f-1319-4066-97bf-edd145789c44"
      },
      "outputs": [
        {
          "name": "stdout",
          "output_type": "stream",
          "text": [
            "Welcome to the CBC MILP Solver \n",
            "Version: 2.10.3 \n",
            "Build Date: Dec 15 2019 \n",
            "\n",
            "command line - /Users/user/opt/anaconda3/envs/apricot-env/lib/python3.9/site-packages/pulp/solverdir/cbc/osx/64/cbc /var/folders/xc/t5gbnt3n5sq5bkg65xw9f1g00000gn/T/bc00395eeb3046b082b71b4e960b7ecd-pulp.mps max timeMode elapsed branch printingOptions all solution /var/folders/xc/t5gbnt3n5sq5bkg65xw9f1g00000gn/T/bc00395eeb3046b082b71b4e960b7ecd-pulp.sol (default strategy 1)\n",
            "At line 2 NAME          MODEL\n",
            "At line 3 ROWS\n",
            "At line 165 COLUMNS\n",
            "At line 1256 RHS\n",
            "At line 1417 BOUNDS\n",
            "At line 1690 ENDATA\n",
            "Problem MODEL has 160 rows, 272 columns and 478 elements\n",
            "Coin0008I MODEL read with 0 errors\n",
            "Option for timeMode changed from cpu to elapsed\n",
            "Problem is infeasible - 0.00 seconds\n",
            "Option for printingOptions changed from normal to all\n",
            "Total time (CPU seconds):       0.00   (Wallclock seconds):       0.01\n",
            "\n"
          ]
        },
        {
          "data": {
            "text/plain": [
              "-1"
            ]
          },
          "execution_count": 26,
          "metadata": {},
          "output_type": "execute_result"
        }
      ],
      "source": [
        "prob.solve()"
      ]
    }
  ],
  "metadata": {
    "kernelspec": {
      "display_name": "apricot-env",
      "language": "python",
      "name": "python3"
    },
    "language_info": {
      "codemirror_mode": {
        "name": "ipython",
        "version": 3
      },
      "file_extension": ".py",
      "mimetype": "text/x-python",
      "name": "python",
      "nbconvert_exporter": "python",
      "pygments_lexer": "ipython3",
      "version": "3.9.12"
    },
    "orig_nbformat": 4,
    "colab": {
      "provenance": [],
      "include_colab_link": true
    }
  },
  "nbformat": 4,
  "nbformat_minor": 0
}