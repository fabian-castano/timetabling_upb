{
  "cells": [
    {
      "cell_type": "markdown",
      "metadata": {
        "id": "view-in-github",
        "colab_type": "text"
      },
      "source": [
        "<a href=\"https://colab.research.google.com/github/fancagi/timetabling_upb/blob/main/preprocess.ipynb\" target=\"_parent\"><img src=\"https://colab.research.google.com/assets/colab-badge.svg\" alt=\"Open In Colab\"/></a>"
      ]
    },
    {
      "cell_type": "code",
      "execution_count": null,
      "metadata": {
        "id": "KaCNVktL0oPh"
      },
      "outputs": [],
      "source": [
        "import pandas as pd\n",
        "import numpy as np\n",
        "import json\n",
        "\n",
        "pd.set_option('display.max_columns', 500)\n",
        "pd.set_option('display.max_rows', 500)"
      ]
    },
    {
      "cell_type": "markdown",
      "metadata": {
        "id": "BRte6CUH0oPj"
      },
      "source": [
        "# Explore file"
      ]
    },
    {
      "cell_type": "code",
      "execution_count": null,
      "metadata": {
        "id": "833IBOT-0oPk"
      },
      "outputs": [],
      "source": [
        "# enumerate excel sheets\n",
        "horas_curso=pd.read_excel('Facultad_ingenieria1_OK.xlsx', sheet_name='horas_curso')\n",
        "horas_curso=horas_curso[['ASIGNATURA ', 'horas ', 'cantidad de cursos ', '# estudiantes ',\n",
        "       'Horas preparacion de clase ']]\n",
        "horas_curso.columns=['ASIGNATURA', 'horas', 'cantidad de cursos', 'total estudiantes','horas_no_instruccion']\n",
        "horas_curso.dropna(subset=['ASIGNATURA'], inplace=True)\n",
        "horas_curso['codigo']=horas_curso['ASIGNATURA'].apply(lambda x: x[:9])\n",
        "horas_curso['ASIGNATURA']=horas_curso['ASIGNATURA'].apply(lambda x: x[10:])\n",
        "dict_horas={i['codigo']:i for i in horas_curso.to_dict('records')}\n",
        "\n",
        "#Save to json file for later use\n",
        "json.dump(dict_horas, open('data/horas_curso.json', 'w'), indent=4)\n"
      ]
    },
    {
      "cell_type": "code",
      "execution_count": null,
      "metadata": {
        "id": "6oWS6pLP0oPk"
      },
      "outputs": [],
      "source": [
        "idoneidad=pd.read_excel('Facultad_ingenieria1_OK.xlsx', sheet_name='docente_curso')\n",
        "\n",
        "\n",
        "# remove final space from column names\n",
        "idoneidad.columns = idoneidad.columns.str.strip()\n",
        "idoneidad.rename(columns={'ASIGNATURA ':'ASIGNATURA'}, inplace=True)\n",
        "idoneidad[\"ASIGNATURA\"].fillna(method=\"ffill\",inplace=True)\n",
        "idoneidad[\"codigo\"]=idoneidad[\"ASIGNATURA\"].apply(lambda x: x[:9])\n",
        "idoneidad[\"ASIGNATURA\"]=idoneidad[\"ASIGNATURA\"].apply(lambda x: x[10:])\n",
        "# replaces all zeros with NaN\n",
        "idoneidad.replace(0, np.nan, inplace=True)\n",
        "\n",
        "cols=idoneidad.columns\n",
        "cols=list(cols)[1:]\n",
        "\n",
        "\n",
        "idoneidad=idoneidad.melt(id_vars=['codigo', 'ASIGNATURA'], value_vars=cols, var_name='docente', value_name='idoneidad').dropna(subset=['idoneidad'])\n",
        "idoneidad['idoneidad']=idoneidad.apply(lambda x: (x['codigo'], x['idoneidad']), axis=1)\n",
        "idoneidad=idoneidad.groupby('docente').agg(list)[['idoneidad']].reset_index()\n",
        "idoneidad['idoneidad']=idoneidad['idoneidad'].apply(lambda x: {i[0]:i[1] for i in x})\n",
        "idoneidad={i['docente']:i for i in idoneidad.to_dict('records')}\n",
        "json.dump(idoneidad, open('data/idoneidad.json', 'w'), indent=4)"
      ]
    },
    {
      "cell_type": "markdown",
      "metadata": {
        "id": "XyMc3Sah0oPl"
      },
      "source": []
    },
    {
      "cell_type": "code",
      "execution_count": null,
      "metadata": {
        "id": "Lq7nJE3M0oPl"
      },
      "outputs": [],
      "source": [
        "labor_instruccional=pd.read_excel('Facultad_ingenieria1_OK.xlsx', sheet_name='labor_instruccional')\n",
        "labor_instruccional.columns=labor_instruccional.columns.str.strip()\n",
        "dict_labor={i['docente']:i for i in labor_instruccional.to_dict('records')}\n",
        "json.dump(dict_labor, open('data/labor_instruccional.json', 'w'), indent=4)"
      ]
    },
    {
      "cell_type": "markdown",
      "metadata": {
        "id": "jIBkBZBE0oPm"
      },
      "source": [
        "# Horas reglamentarias"
      ]
    },
    {
      "cell_type": "code",
      "execution_count": null,
      "metadata": {
        "id": "SJ0n8oiG0oPm"
      },
      "outputs": [],
      "source": [
        "horas_reglamento=pd.read_excel('Facultad_ingenieria1_OK.xlsx', sheet_name='max_horas')\n",
        "horas_reglamento.columns=horas_reglamento.columns.str.strip()\n",
        "dict_horas_reglamento={i['n_cursos']:i for i in horas_reglamento.to_dict('records')}\n",
        "json.dump(dict_horas_reglamento, open('data/horas_reglamento.json', 'w'), indent=4)"
      ]
    },
    {
      "cell_type": "markdown",
      "metadata": {
        "id": "nrCsiKbt0oPm"
      },
      "source": [
        "# cursos - requerimientos - tipo_sala"
      ]
    },
    {
      "cell_type": "code",
      "execution_count": null,
      "metadata": {
        "id": "4yVpzjIZ0oPm"
      },
      "outputs": [],
      "source": [
        "grupo_requerimiento=pd.read_excel('Facultad_ingenieria1_OK.xlsx', sheet_name='grupo_requerimiento')\n",
        "grupo_requerimiento.columns=grupo_requerimiento.columns.str.strip()\n",
        "grupo_requerimiento.dropna(subset=['codigo'], inplace=True)\n",
        "grupo_requerimiento={i['codigo']:i for i in grupo_requerimiento.to_dict('records')}\n",
        "json.dump(grupo_requerimiento, open('data/grupo_requerimiento.json', 'w'), indent=4)"
      ]
    },
    {
      "cell_type": "code",
      "execution_count": null,
      "metadata": {
        "id": "MZaclZOg0oPn"
      },
      "outputs": [],
      "source": [
        "grupo_requerimiento=pd.read_excel('Facultad_ingenieria1_OK.xlsx', sheet_name='grupo_requerimiento')\n",
        "grupo_requerimiento.columns=grupo_requerimiento.columns.str.strip()\n",
        "\n",
        "grupo_requerimiento.dropna(subset=['codigo'], inplace=True)\n",
        "dict_curso_codigo=grupo_requerimiento.set_index('cursos').to_dict()['codigo']\n"
      ]
    },
    {
      "cell_type": "code",
      "execution_count": null,
      "metadata": {
        "id": "HTau4Exz0oPn"
      },
      "outputs": [],
      "source": [
        "ubicacion_semestral=pd.read_excel('Facultad_ingenieria1_OK.xlsx', sheet_name='ubicacion_semestral')\n",
        "ubicacion_semestral.columns=ubicacion_semestral.columns.str.strip()\n",
        "ubicacion_semestral={i['codigo']:i for i in ubicacion_semestral.to_dict('records')}\n",
        "json.dump(ubicacion_semestral, open('data/ubicacion_semestral.json', 'w'), indent=4)"
      ]
    }
  ],
  "metadata": {
    "kernelspec": {
      "display_name": "apricot-env",
      "language": "python",
      "name": "python3"
    },
    "language_info": {
      "codemirror_mode": {
        "name": "ipython",
        "version": 3
      },
      "file_extension": ".py",
      "mimetype": "text/x-python",
      "name": "python",
      "nbconvert_exporter": "python",
      "pygments_lexer": "ipython3",
      "version": "3.9.12"
    },
    "orig_nbformat": 4,
    "colab": {
      "provenance": [],
      "include_colab_link": true
    }
  },
  "nbformat": 4,
  "nbformat_minor": 0
}